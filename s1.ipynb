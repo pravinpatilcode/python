{
 "cells": [
  {
   "cell_type": "code",
   "execution_count": 8,
   "id": "221176d6-57df-4276-afcb-453460186c53",
   "metadata": {},
   "outputs": [],
   "source": [
    "# task 1 Create a variable rollno and assign an integer value to it. Print the value of rollno, the id, and the data type.\n",
    "rollNo = 123"
   ]
  },
  {
   "cell_type": "code",
   "execution_count": 9,
   "id": "5d8e1486-cb70-42c2-a9f7-99f4883ec6bb",
   "metadata": {},
   "outputs": [
    {
     "name": "stdout",
     "output_type": "stream",
     "text": [
      "Value of rollno: 123\n",
      "ID of rollno: 140704055874152\n",
      "Data type of rollno: <class 'int'>\n"
     ]
    }
   ],
   "source": [
    "\n",
    "print(\"Value of rollno:\", rollNo)\n",
    "print(\"ID of rollno:\", id(rollNo))\n",
    "print(\"Data type of rollno:\", type(rollNo))"
   ]
  },
  {
   "cell_type": "code",
   "execution_count": 10,
   "id": "b0f0f4dd-27ae-4465-87fc-2f95bb003f0c",
   "metadata": {},
   "outputs": [],
   "source": [
    "# task 1b, Create a variable firstname and assign a string value to it. Print the value of firstname, the id, and the data type.\n",
    "firstname = \"Pravin\""
   ]
  },
  {
   "cell_type": "code",
   "execution_count": 12,
   "id": "cb4c9bd7-842b-4c80-8c6e-070de6e1690b",
   "metadata": {},
   "outputs": [
    {
     "name": "stdout",
     "output_type": "stream",
     "text": [
      "Value : Pravin\n",
      "ID : 1238677912752\n",
      "Data type : <class 'str'>\n"
     ]
    }
   ],
   "source": [
    "print(\"Value :\", firstname)\n",
    "print(\"ID :\", id(firstname))\n",
    "print(\"Data type :\", type(firstname))"
   ]
  },
  {
   "cell_type": "code",
   "execution_count": 13,
   "id": "e884fa11-80db-4b07-abbf-5b0b36e37d79",
   "metadata": {},
   "outputs": [],
   "source": [
    "# task1c,Create a variable lastname and assign a string value to it. Print the value of lastname, the id, and the data type.\n",
    "lastname = \"Patil\""
   ]
  },
  {
   "cell_type": "code",
   "execution_count": 14,
   "id": "b04505ad-3270-405e-b851-f5bf479e8645",
   "metadata": {},
   "outputs": [
    {
     "name": "stdout",
     "output_type": "stream",
     "text": [
      "Value of lastname: Patil\n",
      "ID of lastname: 1238682865904\n",
      "Data type of lastname: <class 'str'>\n"
     ]
    }
   ],
   "source": [
    "print(\"Value of lastname:\", lastname)\n",
    "print(\"ID of lastname:\", id(lastname))\n",
    "print(\"Data type of lastname:\", type(lastname))"
   ]
  },
  {
   "cell_type": "code",
   "execution_count": 21,
   "id": "6432bfa0-c6dc-46c0-a284-1d3261c65508",
   "metadata": {},
   "outputs": [
    {
     "name": "stdout",
     "output_type": "stream",
     "text": [
      "50\n",
      "140704055871816\n",
      "<class 'int'>\n"
     ]
    }
   ],
   "source": [
    "# task1d, Create a variable maxmarks and assign the value 50 to it. Print the value of maxmarks, the id, and the data type\n",
    "maxmarks = 50\n",
    "print (maxmarks)\n",
    "print (id(maxmarks))\n",
    "print (type(maxmarks))"
   ]
  },
  {
   "cell_type": "code",
   "execution_count": 20,
   "id": "53011a23-d08f-4c43-a7e2-a28331c4263c",
   "metadata": {},
   "outputs": [
    {
     "name": "stdout",
     "output_type": "stream",
     "text": [
      "2\n"
     ]
    }
   ],
   "source": [
    "# task 2a\n",
    "# interpretation: it is a correct syntax\n",
    "var1 = 2\n",
    "print (var1)\n"
   ]
  },
  {
   "cell_type": "code",
   "execution_count": 22,
   "id": "71b12fc3-e969-4e36-a000-1a484d8225c1",
   "metadata": {},
   "outputs": [
    {
     "ename": "SyntaxError",
     "evalue": "invalid decimal literal (136995327.py, line 3)",
     "output_type": "error",
     "traceback": [
      "\u001b[1;36m  Cell \u001b[1;32mIn[22], line 3\u001b[1;36m\u001b[0m\n\u001b[1;33m    2var = 2\u001b[0m\n\u001b[1;37m    ^\u001b[0m\n\u001b[1;31mSyntaxError\u001b[0m\u001b[1;31m:\u001b[0m invalid decimal literal\n"
     ]
    }
   ],
   "source": [
    "# task 2b\n",
    "# interpretation: it was the wrong syntax we can not start decraring a variable with number.\n",
    "2var = 2"
   ]
  },
  {
   "cell_type": "code",
   "execution_count": 23,
   "id": "8be74db8-f18c-44b4-91c1-d5455a6705fb",
   "metadata": {},
   "outputs": [
    {
     "ename": "SyntaxError",
     "evalue": "invalid syntax (963065798.py, line 3)",
     "output_type": "error",
     "traceback": [
      "\u001b[1;36m  Cell \u001b[1;32mIn[23], line 3\u001b[1;36m\u001b[0m\n\u001b[1;33m    var 1 = 2\u001b[0m\n\u001b[1;37m        ^\u001b[0m\n\u001b[1;31mSyntaxError\u001b[0m\u001b[1;31m:\u001b[0m invalid syntax\n"
     ]
    }
   ],
   "source": [
    "# task 2c\n",
    "# interpretation:  it was the wrong syntax we can not use space when decraring variable.\n",
    "var 1 = 2\n",
    "print (var 1)"
   ]
  },
  {
   "cell_type": "code",
   "execution_count": 24,
   "id": "2a723167-d53c-49f7-a3e6-b25590ac2804",
   "metadata": {},
   "outputs": [
    {
     "ename": "SyntaxError",
     "evalue": "invalid syntax (2988765989.py, line 3)",
     "output_type": "error",
     "traceback": [
      "\u001b[1;36m  Cell \u001b[1;32mIn[24], line 3\u001b[1;36m\u001b[0m\n\u001b[1;33m    var$2 = 2\u001b[0m\n\u001b[1;37m       ^\u001b[0m\n\u001b[1;31mSyntaxError\u001b[0m\u001b[1;31m:\u001b[0m invalid syntax\n"
     ]
    }
   ],
   "source": [
    "# task 2d\n",
    "# interpretation:  it was the wrong syntax we can not use any special characters when decraring a variable.\n",
    "var$2 = 2"
   ]
  },
  {
   "cell_type": "code",
   "execution_count": 26,
   "id": "790e83bf-2849-42aa-9ba7-28b1c854ed56",
   "metadata": {},
   "outputs": [
    {
     "ename": "IndentationError",
     "evalue": "unexpected indent (3814902936.py, line 3)",
     "output_type": "error",
     "traceback": [
      "\u001b[1;36m  Cell \u001b[1;32mIn[26], line 3\u001b[1;36m\u001b[0m\n\u001b[1;33m    class = 15  # This will cause a SyntaxError\u001b[0m\n\u001b[1;37m    ^\u001b[0m\n\u001b[1;31mIndentationError\u001b[0m\u001b[1;31m:\u001b[0m unexpected indent\n"
     ]
    }
   ],
   "source": [
    "                                                   # task 3\n",
    "  class = 15  # This will cause a SyntaxError\n",
    "  print(\"class assigned 15 (shouldn't happen)\")\n",
    "except SyntaxError:\n",
    "  print(\"Class is a reserved keyword. Cannot assign a value to it.\")\n"
   ]
  },
  {
   "cell_type": "code",
   "execution_count": 29,
   "id": "e84ff915-a7ec-409f-a0d8-da3f41c60fcb",
   "metadata": {},
   "outputs": [
    {
     "ename": "IndentationError",
     "evalue": "unexpected indent (1523546818.py, line 3)",
     "output_type": "error",
     "traceback": [
      "\u001b[1;36m  Cell \u001b[1;32mIn[29], line 3\u001b[1;36m\u001b[0m\n\u001b[1;33m    Class = 14  # This will cause a SyntaxError\u001b[0m\n\u001b[1;37m    ^\u001b[0m\n\u001b[1;31mIndentationError\u001b[0m\u001b[1;31m:\u001b[0m unexpected indent\n"
     ]
    }
   ],
   "source": [
    "\n",
    "  Class = 14  # This will cause a SyntaxError\n",
    "  print(\"class assigned 14 (shouldn't happen)\")\n",
    "except SyntaxError:\n",
    "  print(\"Class is a reserved keyword. Cannot assign a value to it.\")\n"
   ]
  },
  {
   "cell_type": "code",
   "execution_count": null,
   "id": "7617c82a-01f3-4a6a-9399-29bbe73e809b",
   "metadata": {},
   "outputs": [],
   "source": [
    " DEF = 13  # This will cause a SyntaxError\n",
    "  print(\"DEF assigned 13 (shouldn't happen)\")\n",
    "except SyntaxError:\n",
    "  print(\"DEF (uppercase) is a reserved keyword. Cannot assign a value to it.\")\n"
   ]
  },
  {
   "cell_type": "code",
   "execution_count": 30,
   "id": "4aef5ea2-f0a6-4abf-90e4-762a212af410",
   "metadata": {},
   "outputs": [
    {
     "ename": "SyntaxError",
     "evalue": "invalid syntax (762263568.py, line 1)",
     "output_type": "error",
     "traceback": [
      "\u001b[1;36m  Cell \u001b[1;32mIn[30], line 1\u001b[1;36m\u001b[0m\n\u001b[1;33m    def = 12  # This will cause a SyntaxError\u001b[0m\n\u001b[1;37m        ^\u001b[0m\n\u001b[1;31mSyntaxError\u001b[0m\u001b[1;31m:\u001b[0m invalid syntax\n"
     ]
    }
   ],
   "source": [
    "def = 12  # This will cause a SyntaxError\n",
    "  print(\"def assigned 12 (shouldn't happen)\")\n",
    "except SyntaxError:\n",
    "  print(\"def (lowercase) is a reserved keyword. Cannot assign a value to it.\")"
   ]
  },
  {
   "cell_type": "code",
   "execution_count": 31,
   "id": "5b8b690a-b673-414f-816d-cea8a8a51018",
   "metadata": {},
   "outputs": [
    {
     "ename": "SyntaxError",
     "evalue": "invalid syntax (3270431131.py, line 3)",
     "output_type": "error",
     "traceback": [
      "\u001b[1;36m  Cell \u001b[1;32mIn[31], line 3\u001b[1;36m\u001b[0m\n\u001b[1;33m    except NameError:\u001b[0m\n\u001b[1;37m    ^\u001b[0m\n\u001b[1;31mSyntaxError\u001b[0m\u001b[1;31m:\u001b[0m invalid syntax\n"
     ]
    }
   ],
   "source": [
    "  a = TRUE  # This will cause a NameError\n",
    "  print(\"a assigned TRUE (shouldn't happen)\")\n",
    "except NameError:\n",
    "  print(\"TRUE is not a valid constant. Use True (case-sensitive).\")\n",
    "\n"
   ]
  },
  {
   "cell_type": "code",
   "execution_count": 32,
   "id": "0b166576-038a-40b7-9dcf-61982c3e6bf4",
   "metadata": {},
   "outputs": [
    {
     "name": "stdout",
     "output_type": "stream",
     "text": [
      "b assigned False: False\n"
     ]
    }
   ],
   "source": [
    "# This line is correct\n",
    "b = False\n",
    "print(\"b assigned False:\", b)"
   ]
  },
  {
   "cell_type": "code",
   "execution_count": 33,
   "id": "8db61ce2-acd9-4502-9d77-1a3fa5bad18c",
   "metadata": {},
   "outputs": [
    {
     "name": "stdout",
     "output_type": "stream",
     "text": [
      "Value of marks: 50.5\n",
      "ID of marks: 1238631502160\n",
      "Data type of marks: <class 'float'>\n"
     ]
    }
   ],
   "source": [
    "#task 4a, Create a variable named marks and assign it a float value between 0 and 100. Print the value, the id, and the data type.\n",
    "marks = 50.5\n",
    "print(\"Value of marks:\", marks)\n",
    "print(\"ID of marks:\", id(marks))\n",
    "print(\"Data type of marks:\", type(marks))\n"
   ]
  },
  {
   "cell_type": "code",
   "execution_count": 34,
   "id": "226235fd-9d47-416e-baf8-2a39d3783560",
   "metadata": {},
   "outputs": [
    {
     "name": "stdout",
     "output_type": "stream",
     "text": [
      "Value of marks after change: 87.2\n",
      "ID of marks (after change): 1238695411440\n",
      "Data type of marks: <class 'float'>\n"
     ]
    }
   ],
   "source": [
    "#task 4b, Change the value of marks to any other float value between 0 and 100. Print the value of marks, the id, and the data type.\n",
    "marks = 50.5  \n",
    "# Change the value of marks\n",
    "marks = 87.2\n",
    "\n",
    "print(\"Value of marks after change:\", marks)\n",
    "print(\"ID of marks (after change):\", id(marks))  \n",
    "print(\"Data type of marks:\", type(marks))"
   ]
  },
  {
   "cell_type": "code",
   "execution_count": null,
   "id": "b8c45be9-4bbc-4b9f-a794-c0a9a3131fbf",
   "metadata": {},
   "outputs": [],
   "source": [
    "#task 4c,Is the id for the marks variable in the last two questions the same or different? Explain with justification.\n",
    "\n",
    "# interpretation: In the last two questions the ID for the marks variable is different becouse:\n",
    "#Floats are Immutable\n",
    "#Reassignment Creates a New Object\n",
    "#ID Reflects Memory Address"
   ]
  },
  {
   "cell_type": "code",
   "execution_count": 40,
   "id": "0b8bf7af-b7fe-47f8-ac88-bbd1b8b6c4be",
   "metadata": {},
   "outputs": [
    {
     "name": "stdout",
     "output_type": "stream",
     "text": [
      "87.2\n"
     ]
    }
   ],
   "source": [
    "#task5a, Define a variable maxmarks and assign it the value 100. Divide marks by maxmarks. Print the output as a percentage\n",
    "maxmarks = 100\n",
    "\n",
    "percentage = marks / maxmarks * 100 \n",
    "print(percentage)  \n"
   ]
  },
  {
   "cell_type": "code",
   "execution_count": 42,
   "id": "ebc0da25-5e9a-42d3-812c-e58f78010761",
   "metadata": {},
   "outputs": [
    {
     "name": "stdout",
     "output_type": "stream",
     "text": [
      "Pravin Patil\n"
     ]
    }
   ],
   "source": [
    "#task5b, Print the value of the variable fullname by joining firstname and lastname.\n",
    "print(firstname + \" \" + lastname)"
   ]
  },
  {
   "cell_type": "code",
   "execution_count": 55,
   "id": "d6170b84-3e39-4b8d-91d2-1f03fbd065c9",
   "metadata": {},
   "outputs": [
    {
     "name": "stdout",
     "output_type": "stream",
     "text": [
      "Pravin Patil scored 87.2\n",
      "87.2\n"
     ]
    }
   ],
   "source": [
    "#task5c, Print the value of the variable fullname with the text \"scored\", followed by the percentage of marks.\n",
    "print(firstname + \" \" + lastname + \" \" + \"scored\" , percentage)\n"
   ]
  },
  {
   "cell_type": "code",
   "execution_count": 56,
   "id": "a2eb7a43-ff1b-4a76-8a23-210998d926c7",
   "metadata": {},
   "outputs": [
    {
     "ename": "TypeError",
     "evalue": "unsupported operand type(s) for +: 'int' and 'str'",
     "output_type": "error",
     "traceback": [
      "\u001b[1;31m---------------------------------------------------------------------------\u001b[0m",
      "\u001b[1;31mTypeError\u001b[0m                                 Traceback (most recent call last)",
      "Cell \u001b[1;32mIn[56], line 2\u001b[0m\n\u001b[0;32m      1\u001b[0m \u001b[38;5;66;03m# task 6\u001b[39;00m\n\u001b[1;32m----> 2\u001b[0m \u001b[38;5;28mprint\u001b[39m( \u001b[38;5;241m1\u001b[39m  \u001b[38;5;241m+\u001b[39m \u001b[38;5;124m\"\u001b[39m\u001b[38;5;124m2\u001b[39m\u001b[38;5;124m\"\u001b[39m)\n",
      "\u001b[1;31mTypeError\u001b[0m: unsupported operand type(s) for +: 'int' and 'str'"
     ]
    }
   ],
   "source": [
    "                                          # task 6\n",
    "print( 1  + \"2\")\n",
    "#TypeError: unsupported operand type(s) for +: 'int' and 'str'"
   ]
  },
  {
   "cell_type": "code",
   "execution_count": 57,
   "id": "1b0afbcd-5991-4600-86f3-9b0d568e784e",
   "metadata": {},
   "outputs": [
    {
     "name": "stdout",
     "output_type": "stream",
     "text": [
      " 1 2\n"
     ]
    }
   ],
   "source": [
    "print(\" 1 \"+\"2\")\n",
    "# String concatenation, Python treats the entire expression within double quotes as a string literal. "
   ]
  },
  {
   "cell_type": "code",
   "execution_count": 58,
   "id": "d7e1f791-e82f-41a1-9a35-2e68d995c13f",
   "metadata": {},
   "outputs": [
    {
     "name": "stdout",
     "output_type": "stream",
     "text": [
      "0.5\n"
     ]
    }
   ],
   "source": [
    "print(1/2)\n",
    "#In Python, dividing integers by integers performs floating-point division. This means the result is a float, even though the operands are integers. "
   ]
  },
  {
   "cell_type": "code",
   "execution_count": 59,
   "id": "8ae350d6-d3dc-4efc-8add-03d902ebe762",
   "metadata": {},
   "outputs": [
    {
     "data": {
      "text/plain": [
       "0"
      ]
     },
     "execution_count": 59,
     "metadata": {},
     "output_type": "execute_result"
    }
   ],
   "source": [
    "1//2\n",
    "#The double forward-slash (//) operator performs integer division in Python."
   ]
  },
  {
   "cell_type": "code",
   "execution_count": 60,
   "id": "e9c5dec1-85ff-41e2-a5a8-74325f2f2e50",
   "metadata": {},
   "outputs": [
    {
     "name": "stdout",
     "output_type": "stream",
     "text": [
      "True and True: True\n"
     ]
    }
   ],
   "source": [
    "                                          # task 7\n",
    "result = True and True\n",
    "print( result) \n",
    "# interpretation: The and operator returns True only if both operands are True. In this case, both operands are True, so the result is True."
   ]
  },
  {
   "cell_type": "code",
   "execution_count": 61,
   "id": "625f6799-df9f-4120-a02c-a4cd8f57288d",
   "metadata": {},
   "outputs": [
    {
     "name": "stdout",
     "output_type": "stream",
     "text": [
      "False\n"
     ]
    }
   ],
   "source": [
    "result = True and False\n",
    "print( result)  \n",
    "# interpretation:  The and operator returns False if at least one operand is False. Here, False is present, so the overall result is False."
   ]
  },
  {
   "cell_type": "code",
   "execution_count": 64,
   "id": "c0e906e1-2381-4e7b-91dc-f8a5f24981f9",
   "metadata": {},
   "outputs": [
    {
     "name": "stdout",
     "output_type": "stream",
     "text": [
      "True\n"
     ]
    }
   ],
   "source": [
    "result = False or True\n",
    "print( result) \n",
    "# interpretation: The or operator returns True if at least one operand is True. Since True is present in this case, the result is True."
   ]
  },
  {
   "cell_type": "code",
   "execution_count": 63,
   "id": "8289e790-df77-4fd6-8761-631e347f7ce3",
   "metadata": {},
   "outputs": [
    {
     "name": "stdout",
     "output_type": "stream",
     "text": [
      "False\n"
     ]
    }
   ],
   "source": [
    "result = False or False\n",
    "print( result)\n",
    "# interpretation: The or operator returns False only if both operands are False. Here, both operands are False, so the result is False."
   ]
  },
  {
   "cell_type": "code",
   "execution_count": 87,
   "id": "50634dd0-fd8e-4118-9d8e-0da2d0de2d21",
   "metadata": {},
   "outputs": [
    {
     "name": "stdout",
     "output_type": "stream",
     "text": [
      "'Pravin' is present within 'Pravin Patil'.\n"
     ]
    }
   ],
   "source": [
    "                                                 # task 8\n",
    "#8a) Compare firstname and fullname using the \"in\" operator. Print and explain the output.\n",
    "\n",
    "if firstname in fullname:\n",
    "  print(f\"'{firstname}' is present within '{fullname}'.\")\n",
    "else:\n",
    "  print(f\"'{firstname}' is not present within '{fullname}'.\")\n",
    "#The in operator checks if a substring (smaller string) exists within a larger string. In this case, it checks if firstname (substring) is present anywhere within fullname (larger string)."
   ]
  },
  {
   "cell_type": "code",
   "execution_count": 92,
   "id": "f90504bb-1784-46f1-8322-6ad9a5b0e2f4",
   "metadata": {},
   "outputs": [
    {
     "name": "stdout",
     "output_type": "stream",
     "text": [
      "'Pravin' and 'Pravin Patil' are different objects in memory.\n"
     ]
    }
   ],
   "source": [
    "#b) Compare firstname and fullname using the \"is\" operator. Print and explain the output.\n",
    "if firstname is fullname:\n",
    "  print(f\"'{firstname}' and '{fullname}' refer to the same object in memory.\")\n",
    "else:\n",
    "  print(f\"'{firstname}' and '{fullname}' are different objects in memory.\")\n",
    "\n",
    "#The is operator checks if two variables refer to the exact same object in memory. It's primarily used for object identity, not string content comparison.\n",
    "#ex:\n",
    "if firstname is fullname:\n",
    "    print ( \"result\" + firstname)\n",
    "else:\n",
    "    print(\"different\")"
   ]
  },
  {
   "cell_type": "code",
   "execution_count": 93,
   "id": "fe2132bb-ed61-450e-8c6c-8bc10a667c38",
   "metadata": {},
   "outputs": [
    {
     "name": "stdout",
     "output_type": "stream",
     "text": [
      "Value of d: 66\n",
      "Value of e: 1024\n"
     ]
    }
   ],
   "source": [
    "                                                 # task 9\n",
    "a = 4\n",
    "b = 3\n",
    "c = 2\n",
    "\n",
    "d = a**b + c # 4*4*4 then + 2\n",
    "e = a**(b + c) # 3+2=5 then 4*4*4*4*4\n",
    "print(\"Value of d:\", d)\n",
    "print(\"Value of e:\", e)\n",
    "#The values of d and e are different because of the order of operations\n",
    "# Order of operations: exponentiation before addition"
   ]
  },
  {
   "cell_type": "code",
   "execution_count": null,
   "id": "4307a0d8-4833-413b-9b0f-c2f7f9a60c1e",
   "metadata": {},
   "outputs": [],
   "source": []
  }
 ],
 "metadata": {
  "kernelspec": {
   "display_name": "Python 3 (ipykernel)",
   "language": "python",
   "name": "python3"
  },
  "language_info": {
   "codemirror_mode": {
    "name": "ipython",
    "version": 3
   },
   "file_extension": ".py",
   "mimetype": "text/x-python",
   "name": "python",
   "nbconvert_exporter": "python",
   "pygments_lexer": "ipython3",
   "version": "3.11.7"
  }
 },
 "nbformat": 4,
 "nbformat_minor": 5
}
