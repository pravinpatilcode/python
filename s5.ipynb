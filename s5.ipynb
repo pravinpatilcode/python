{
 "cells": [
  {
   "cell_type": "code",
   "execution_count": 13,
   "id": "b5ea9b0e-3e16-4195-83f8-2719600b86bf",
   "metadata": {},
   "outputs": [
    {
     "name": "stdin",
     "output_type": "stream",
     "text": [
      "Enter a word:  pap\n"
     ]
    },
    {
     "name": "stdout",
     "output_type": "stream",
     "text": [
      "The word 'pap' is a palindrome.\n"
     ]
    }
   ],
   "source": [
    "#                               sprint5\n",
    "#Q1, Checking if a word is a palindrome Create a user-defined function to accept a word from the user and check if the word is a palindrome or not. Note: Palindromes are the words that read the same backward and forward e.g. madam, mom, dad etc. The word \"madam\" is a palindrome as it spells the same even after reversing. The word \"CAT\" is not a palindrome, since \"TAC\" would be the reverse of \"CAT\" and they are not spelled the same.\n",
    "def is_palindrome(word):\n",
    "    word = word.lower()\n",
    "    if word == word[::-1]:\n",
    "        return True\n",
    "    else:\n",
    "        return False\n",
    "\n",
    "user_word = input(\"Enter a word: \")\n",
    "if is_palindrome(user_word):\n",
    "    print(f\"The word '{user_word}' is a palindrome.\")\n",
    "else:\n",
    "    print(f\"The word '{user_word}' is not a palindrome.\")\n"
   ]
  },
  {
   "cell_type": "code",
   "execution_count": 14,
   "id": "2c20a46f-8622-4960-bdb7-7d8b75519c60",
   "metadata": {},
   "outputs": [
    {
     "name": "stdin",
     "output_type": "stream",
     "text": [
      "Enter words separated by commas:  svdvc\n"
     ]
    },
    {
     "name": "stdout",
     "output_type": "stream",
     "text": [
      "Sorted words: ['svdvc']\n"
     ]
    }
   ],
   "source": [
    "#Q2, Sorting words,Create a user-defined function to accept multiple words from the user and store them in a list. Sort the words in the list in alphabetical order and print them.\n",
    "def sort_words():\n",
    "\n",
    "    words = input(\"Enter words separated by commas: \").split(',')\n",
    "    words = [word.strip() for word in words]\n",
    "    words.sort()\n",
    "    print(\"Sorted words:\", words)\n",
    "\n",
    "sort_words()\n"
   ]
  },
  {
   "cell_type": "code",
   "execution_count": 16,
   "id": "36ee8860-c659-4be2-bd22-5798562ea4eb",
   "metadata": {},
   "outputs": [
    {
     "name": "stdin",
     "output_type": "stream",
     "text": [
      "Enter characters separated by commas:  fe,few,wdfefwtg4e,\n"
     ]
    },
    {
     "name": "stdout",
     "output_type": "stream",
     "text": [
      "Output string: fefewwdfefwtg4e\n"
     ]
    }
   ],
   "source": [
    "#Q3,Create a user-defined function to accept user input as a list of characters. Convert the list of characters into a string and display the output.\n",
    "def convert_to_string():\n",
    "    chars = input(\"Enter characters separated by commas: \").split(',')\n",
    "    chars = [char.strip() for char in chars]\n",
    "\n",
    "    result_string = ''.join(chars)\n",
    "    print(\"Output string:\", result_string)\n",
    "convert_to_string()\n"
   ]
  },
  {
   "cell_type": "code",
   "execution_count": 17,
   "id": "f75c0a75-b910-4aa8-bf57-cabc78704ca7",
   "metadata": {},
   "outputs": [
    {
     "name": "stdout",
     "output_type": "stream",
     "text": [
      "Enter 10 numbers:\n"
     ]
    },
    {
     "name": "stdin",
     "output_type": "stream",
     "text": [
      "Enter a number:  963258963\n",
      "Enter a number:  25825623\n",
      "Enter a number:  12346597926\n",
      "Enter a number:  9848448448484\n",
      "Enter a number:  448484848486464\n",
      "Enter a number:  8486848888848848\n",
      "Enter a number:  484848484\n",
      "Enter a number:  484\n",
      "Enter a number:  4+\n"
     ]
    },
    {
     "name": "stdout",
     "output_type": "stream",
     "text": [
      "Invalid input. Please enter a numeric value.\n"
     ]
    },
    {
     "name": "stdin",
     "output_type": "stream",
     "text": [
      "Enter a number:  \n"
     ]
    },
    {
     "name": "stdout",
     "output_type": "stream",
     "text": [
      "Invalid input. Please enter a numeric value.\n"
     ]
    },
    {
     "name": "stdin",
     "output_type": "stream",
     "text": [
      "Enter a number:  4445\n",
      "Enter a number:  4448\n"
     ]
    },
    {
     "name": "stdout",
     "output_type": "stream",
     "text": [
      "Min = 484.0\n",
      "Max = 8486848888848848.0\n"
     ]
    }
   ],
   "source": [
    "#Q4,Create a user-defined function to allow the user to input 10 numbers and save them in a list. Print the smallest and the largest numbers from this list.\n",
    "def find_min_max():\n",
    "    numbers = []\n",
    "    print(\"Enter 10 numbers:\")\n",
    "    for _ in range(10):\n",
    "        while True:\n",
    "            try:\n",
    "                num = float(input(\"Enter a number: \"))\n",
    "                numbers.append(num)\n",
    "                break\n",
    "            except ValueError:\n",
    "                print(\"Invalid input. Please enter a numeric value.\")\n",
    "    min_num = min(numbers)\n",
    "    max_num = max(numbers)\n",
    "\n",
    "    print(f\"Min = {min_num}\")\n",
    "    print(f\"Max = {max_num}\")\n",
    "\n",
    "# Call the function\n",
    "find_min_max()\n"
   ]
  },
  {
   "cell_type": "code",
   "execution_count": 18,
   "id": "ea30fdb4-33a1-4d3e-aaea-10e3bb6206b9",
   "metadata": {},
   "outputs": [
    {
     "name": "stdout",
     "output_type": "stream",
     "text": [
      "Enter the following items with their prices:\n"
     ]
    },
    {
     "name": "stdin",
     "output_type": "stream",
     "text": [
      "Enter item name (e.g., item1):  efrgbg\n",
      "Enter price for efrgbg:  33\n",
      "Enter item name (e.g., item1):  wres\n",
      "Enter price for wres:  25\n",
      "Enter item name (e.g., item1):  wefrgrf\n",
      "Enter price for wefrgrf:  2554\n",
      "Enter item name (e.g., item1):  wferrfr\n",
      "Enter price for wferrfr:  53\n",
      "Enter item name (e.g., item1):  efrgf\n",
      "Enter price for efrgf:  53f\n"
     ]
    },
    {
     "name": "stdout",
     "output_type": "stream",
     "text": [
      "Invalid input. Please enter a numeric value for the price.\n"
     ]
    },
    {
     "name": "stdin",
     "output_type": "stream",
     "text": [
      "Enter item name (e.g., item1):  \n",
      "Enter price for :  535\n"
     ]
    },
    {
     "name": "stdout",
     "output_type": "stream",
     "text": [
      "Max value: 2554.0\n",
      "Min value: 25.0\n"
     ]
    }
   ],
   "source": [
    "#Q5,Searching a dictionary Create a user-defined function to accept input from the user to populate a dictionary, using the following data:\n",
    "def find_max_min_values():\n",
    "    # Initialize an empty dictionary\n",
    "    items = {}\n",
    "    num_items = 5\n",
    "    \n",
    "    print(\"Enter the following items with their prices:\")\n",
    "    for _ in range(num_items):\n",
    "        while True:\n",
    "            try:\n",
    "                item = input(\"Enter item name (e.g., item1): \")\n",
    "                price = float(input(f\"Enter price for {item}: \"))\n",
    "                \n",
    "                items[item] = price\n",
    "                break\n",
    "            except ValueError:\n",
    "                print(\"Invalid input. Please enter a numeric value for the price.\")\n",
    "\n",
    "    max_value = max(items.values())\n",
    "    min_value = min(items.values())\n",
    "\n",
    "    print(f\"Max value: {max_value}\")\n",
    "    print(f\"Min value: {min_value}\")\n",
    "\n",
    "# Call the function\n",
    "find_max_min_values()\n"
   ]
  },
  {
   "cell_type": "code",
   "execution_count": 19,
   "id": "53e29222-f5c5-49cf-bde0-82defa528dd7",
   "metadata": {},
   "outputs": [
    {
     "name": "stdin",
     "output_type": "stream",
     "text": [
      "Enter your name:  sfrthy\n",
      "Enter your age:  85\n",
      "Enter your gender:  m\n",
      "Enter your occupation:  dfrew\n"
     ]
    },
    {
     "name": "stdout",
     "output_type": "stream",
     "text": [
      "Profile Card:\n",
      "Name: sfrthy\n",
      "Age: 85\n",
      "Gender: m\n",
      "Occupation: dfrew\n"
     ]
    }
   ],
   "source": [
    "#Q6,: Generating a profile card Write a program to create a profile card of a person. Create a user-defined function f1() to accept input from the user to store the name, age, gender, and occupation as local variables. Create another user-defined function f2() to print the values entered by the user earlier and generate a profile card. Function f2() will be called from f1().\n",
    "def f2(name, age, gender, occupation):\n",
    "    \"\"\"\n",
    "    Function to print the profile card based on the provided details.\n",
    "    \"\"\"\n",
    "    print(\"Profile Card:\")\n",
    "    print(f\"Name: {name}\")\n",
    "    print(f\"Age: {age}\")\n",
    "    print(f\"Gender: {gender}\")\n",
    "    print(f\"Occupation: {occupation}\")\n",
    "\n",
    "def f1():\n",
    "    \"\"\"\n",
    "    Function to accept input from the user and call f2() to generate a profile card.\n",
    "    \"\"\"\n",
    "    name = input(\"Enter your name: \")\n",
    "    age = input(\"Enter your age: \")\n",
    "    gender = input(\"Enter your gender: \")\n",
    "    occupation = input(\"Enter your occupation: \")\n",
    "    f2(name, age, gender, occupation)\n",
    "f1()\n"
   ]
  },
  {
   "cell_type": "code",
   "execution_count": 20,
   "id": "54c4a348-5ce6-4538-b9cc-ad3c98e514cc",
   "metadata": {},
   "outputs": [
    {
     "name": "stdout",
     "output_type": "stream",
     "text": [
      "[('green', 1), ('blue', 2), ('yellow', 3), ('black', 4), ('red', 5)]\n"
     ]
    }
   ],
   "source": [
    "#Q7, Sorting color frequency in tuples\n",
    "def sort_color_frequency(color):\n",
    "    \"\"\"\n",
    "    Function to sort a list of tuples based on the frequency in ascending order.\n",
    "    \"\"\"\n",
    "    sorted_color = sorted(color, key=lambda x: x[1])\n",
    "    print(sorted_color)\n",
    "\n",
    "color = [('black', 4), ('green', 1), ('red', 5), ('blue', 2), ('yellow', 3)]\n",
    "sort_color_frequency(color)\n"
   ]
  },
  {
   "cell_type": "code",
   "execution_count": 21,
   "id": "366e670d-bc91-481a-ae13-4530321202d0",
   "metadata": {},
   "outputs": [
    {
     "name": "stdout",
     "output_type": "stream",
     "text": [
      "['Mandy']\n"
     ]
    }
   ],
   "source": [
    "#Q8, Common data elements in two lists\n",
    "def find_common_elements(list1, list2):\n",
    "    \"\"\"\n",
    "    Function to find common elements between two lists using lambda expressions.\n",
    "    \"\"\"\n",
    "    set2 = set(list2)\n",
    "    \n",
    "    common_elements = list(filter(lambda x: x in set2, list1))\n",
    "    \n",
    "    print(common_elements)\n",
    "\n",
    "a = [\"Andy\", \"Mandy\", \"Sandy\"]\n",
    "b = [\"Handy\", \"Burgundy\", \"Mandy\"]\n",
    "\n",
    "# Call the function with the sample input\n",
    "find_common_elements(a, b)\n"
   ]
  },
  {
   "cell_type": "code",
   "execution_count": 22,
   "id": "9981c9da-d782-4180-886d-3acc861183bc",
   "metadata": {},
   "outputs": [
    {
     "name": "stdout",
     "output_type": "stream",
     "text": [
      "[29, 30, 31]\n"
     ]
    }
   ],
   "source": [
    "#Q9,: Map function with Lambda expression, Write a Python program to add each element of list c with the corresponding element of list d, using the map function and Lambda expression.\n",
    "def add_corresponding_elements(list1, list2):\n",
    "    \"\"\"\n",
    "    Function to add corresponding elements of two lists using map and lambda.\n",
    "    \"\"\"\n",
    "    # Use map and lambda to add corresponding elements\n",
    "    result = list(map(lambda x, y: x + y, list1, list2))\n",
    "    \n",
    "    # Print the result\n",
    "    print(result)\n",
    "c = [12, 14, 14]\n",
    "d = [17, 16, 17]\n",
    "\n",
    "# Call the function with the sample input\n",
    "add_corresponding_elements(c, d)\n"
   ]
  },
  {
   "cell_type": "code",
   "execution_count": 9,
   "id": "394baf2d-7818-42b0-8044-a88ea13c0340",
   "metadata": {},
   "outputs": [],
   "source": [
    "#Q"
   ]
  },
  {
   "cell_type": "code",
   "execution_count": 10,
   "id": "05c4be72-9094-4933-be20-03d627242e8c",
   "metadata": {},
   "outputs": [],
   "source": [
    "#Q"
   ]
  },
  {
   "cell_type": "code",
   "execution_count": null,
   "id": "5f861adf-0b0c-45db-b4fe-08a28d55bb37",
   "metadata": {},
   "outputs": [],
   "source": [
    "#Q"
   ]
  }
 ],
 "metadata": {
  "kernelspec": {
   "display_name": "Python 3 (ipykernel)",
   "language": "python",
   "name": "python3"
  },
  "language_info": {
   "codemirror_mode": {
    "name": "ipython",
    "version": 3
   },
   "file_extension": ".py",
   "mimetype": "text/x-python",
   "name": "python",
   "nbconvert_exporter": "python",
   "pygments_lexer": "ipython3",
   "version": "3.11.7"
  }
 },
 "nbformat": 4,
 "nbformat_minor": 5
}
