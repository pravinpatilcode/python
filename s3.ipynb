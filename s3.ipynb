{
 "cells": [
  {
   "cell_type": "code",
   "execution_count": 3,
   "id": "fe9911ab-e40f-4011-b985-209740f104c5",
   "metadata": {},
   "outputs": [
    {
     "name": "stdout",
     "output_type": "stream",
     "text": [
      "FALSE\n"
     ]
    }
   ],
   "source": [
    "#                                    sprint3\n",
    "#Q1, In the list below, how would you check for the presence of the data item USA?\n",
    "mynames = [\"Joe\", \"Zoe\", \"world\", \"Brad\", \"A ngelina\", \"world\", \"Zuki\", \"Tom\", \"Paris\",\"w orld\", \"magic\"]\n",
    "if \"USA\" in mynames:\n",
    "    print(\"TRUE\")\n",
    "else:\n",
    "    print(\"FALSE\")"
   ]
  },
  {
   "cell_type": "code",
   "execution_count": 39,
   "id": "55accaa2-77fd-47e4-998a-d4d2c16e3d25",
   "metadata": {},
   "outputs": [
    {
     "name": "stdout",
     "output_type": "stream",
     "text": [
      "3\n"
     ]
    },
    {
     "data": {
      "text/plain": [
       "'\\nworld_count = mynames.count(input(\"Enter an alphabet: \"))\\nprint(world_count)\\n\\ncount = 0\\nname = input(\"Enter an alphabet: \")\\nfor name in mynames:\\n    if name == \"world\":\\n        count += 1\\nprint(count)\\n'"
      ]
     },
     "execution_count": 39,
     "metadata": {},
     "output_type": "execute_result"
    }
   ],
   "source": [
    "#Q2, Frequency Counts of Elements in a List\n",
    "mynames = [\"Joe\", \"Zoe\", \"world\", \"Brad\", \"Angelina\", \"world\", \"Zuki\", \"Tom\", \"Paris\", \"world\", \"magic\"]\n",
    "\n",
    "world_count = mynames.count(\"world\")\n",
    "print(world_count)\n",
    "\n",
    "\"\"\"\n",
    "world_count = mynames.count(input(\"Enter an alphabet: \"))\n",
    "print(world_count)\n",
    "\n",
    "count = 0\n",
    "name = input(\"Enter an alphabet: \")\n",
    "for name in mynames:\n",
    "    if name == \"world\":\n",
    "        count += 1\n",
    "print(count)\n",
    "\"\"\""
   ]
  },
  {
   "cell_type": "code",
   "execution_count": 38,
   "id": "48d15b8b-1f83-408e-a0f6-59d70438e6bd",
   "metadata": {},
   "outputs": [
    {
     "name": "stdout",
     "output_type": "stream",
     "text": [
      "even numbers  {14}\n",
      "odd numbers  {15}\n"
     ]
    }
   ],
   "source": [
    "#Q3, Write a program to count the total number of even and odd numbers in the list defined below\n",
    "numlist = list(range(1, 30))\n",
    "even_count = 0\n",
    "odd_count = 0\n",
    "\n",
    "for num in numlist:\n",
    "    if num % 2 == 0:\n",
    "        even_count += 1\n",
    "    else:\n",
    "        odd_count += 1\n",
    "print(\"even numbers \" , {even_count})\n",
    "print(\"odd numbers \" , {odd_count})"
   ]
  },
  {
   "cell_type": "code",
   "execution_count": null,
   "id": "bc9e10b5-13c3-4798-803a-8b960de4bc96",
   "metadata": {},
   "outputs": [],
   "source": [
    "#Q4,Select the first 5 even numbers from numlist, store them in a new list, and display the contents of the new list\n",
    "# Define the list of numbers from 1 to 29\n",
    "numlist = list(range(1, 30))\n",
    "\n",
    "# Initialize an empty list to store the first 5 even numbers\n",
    "el = []\n",
    "\n",
    "# Loop through the list and add the first 5 even numbers to 'el'\n",
    "for num in numlist:\n",
    "    if num % 2 == 0:\n",
    "        el.append(num)\n",
    "        if len(el) == 5:  # Stop once we have added 5 even numbers\n",
    "            break\n",
    "\n",
    "# Display the contents of the new list\n",
    "print(\"The first 5 even numbers are:\", el)\n"
   ]
  },
  {
   "cell_type": "code",
   "execution_count": 42,
   "id": "2c821a6c-7cdf-42eb-91d3-8472657a4cbc",
   "metadata": {},
   "outputs": [
    {
     "name": "stdout",
     "output_type": "stream",
     "text": [
      "The last two odd numbers are: 27 29\n"
     ]
    }
   ],
   "source": [
    "#Q5,Print the last two odd numbers from numlist. numlist list (range (1,30))\n",
    "\n",
    "numlist = list(range(1, 30))\n",
    "\n",
    "for num in numlist:\n",
    "    if num % 2 != 0:  # Check if the number is odd\n",
    "        # Update the last two odd numbers\n",
    "        last_odd2 = last_odd1\n",
    "        last_odd1 = num\n",
    "\n",
    "# Display the last two odd numbers\n",
    "print(\"The last two odd numbers are:\", last_odd2, last_odd1)\n"
   ]
  },
  {
   "cell_type": "code",
   "execution_count": 45,
   "id": "7a041ba5-fae9-43b7-8f1b-74a10abab023",
   "metadata": {},
   "outputs": [
    {
     "name": "stdout",
     "output_type": "stream",
     "text": [
      "Enter 5 strings:\n"
     ]
    },
    {
     "name": "stdin",
     "output_type": "stream",
     "text": [
      " rge\n",
      " rv\n",
      " rb\n",
      " b\n",
      " v\n"
     ]
    },
    {
     "name": "stdout",
     "output_type": "stream",
     "text": [
      "Enter 3 numbers:\n"
     ]
    },
    {
     "name": "stdin",
     "output_type": "stream",
     "text": [
      " 2\n",
      " 2\n",
      " 4\n"
     ]
    },
    {
     "name": "stdout",
     "output_type": "stream",
     "text": [
      "The combined list is: ['rge', 'rv', 'rb', 'b', 'v', 2, 2, 4]\n"
     ]
    }
   ],
   "source": [
    "#Q6, Create two empty lists, x and y. Accept 5 strings from the user and store them in list x. Accept 3 numbers from the user and store them in list y. Append the contents of list y to the contents of list x and print the output.\n",
    "# Initialize two empty lists\n",
    "x = []\n",
    "y = []\n",
    "\n",
    "# Accept 5 strings from the user and store them in list x\n",
    "print(\"Enter 5 strings:\")\n",
    "for _ in range(5):\n",
    "    string = input()\n",
    "    x.append(string)\n",
    "\n",
    "# Accept 3 numbers from the user and store them in list y\n",
    "print(\"Enter 3 numbers:\")\n",
    "for _ in range(3):\n",
    "    number = int(input())\n",
    "    y.append(number)\n",
    "\n",
    "# Append the contents of list y to the contents of list x\n",
    "x.extend(y)\n",
    "\n",
    "print(\"The combined list is:\", x)\n"
   ]
  },
  {
   "cell_type": "code",
   "execution_count": 46,
   "id": "5d283e42-059c-4248-b4b5-cbdcf5a94f7a",
   "metadata": {},
   "outputs": [
    {
     "name": "stdout",
     "output_type": "stream",
     "text": [
      "list_a: [1, 4, 9, 16, 25, 36, 49, 64, 81, 100]\n",
      "list_b: [900, 961, 1024, 1089, 1156, 1225, 1296, 1369, 1444, 1521, 1600]\n"
     ]
    }
   ],
   "source": [
    "#Q7,populating Elements in a List Create two lists as defined below and print them one after the other.\n",
    "# Create list_a with squares of all the numbers from 1 to 10\n",
    "list_a = [x**2 for x in range(1, 11)]\n",
    "\n",
    "# Create list_b with squares of all the numbers from 30 to 40\n",
    "list_b = [x**2 for x in range(30, 41)]\n",
    "\n",
    "# Print the lists\n",
    "print(\"list_a:\", list_a)\n",
    "print(\"list_b:\", list_b)\n"
   ]
  },
  {
   "cell_type": "code",
   "execution_count": 53,
   "id": "2a04d373-1f89-4425-8afc-3c50676184e3",
   "metadata": {},
   "outputs": [
    {
     "name": "stdin",
     "output_type": "stream",
     "text": [
      "Enter a positive integer:  5\n"
     ]
    },
    {
     "name": "stdout",
     "output_type": "stream",
     "text": [
      "5 * 1 = 5\n",
      "5 * 2 = 10\n",
      "5 * 3 = 15\n",
      "5 * 4 = 20\n",
      "5 * 5 = 25\n",
      "5 * 6 = 30\n",
      "5 * 7 = 35\n",
      "5 * 8 = 40\n",
      "5 * 9 = 45\n",
      "5 * 10 = 50\n"
     ]
    }
   ],
   "source": [
    "#Q8, Accept a positive integer from the user. Print the multiplication table of the integer using the \"for\" loop and the range() function.\n",
    "num = int(input(\"Enter a positive integer: \"))\n",
    "for i in range(1, 11):\n",
    "    print(f\"{num} * {i} = {num * i}\")\n",
    "# print(num, \"*\" , i , \"=\", num * i)\n"
   ]
  },
  {
   "cell_type": "code",
   "execution_count": null,
   "id": "7f1f4a00-77f5-4882-9a56-df3484faa47b",
   "metadata": {},
   "outputs": [],
   "source": []
  }
 ],
 "metadata": {
  "kernelspec": {
   "display_name": "Python 3 (ipykernel)",
   "language": "python",
   "name": "python3"
  },
  "language_info": {
   "codemirror_mode": {
    "name": "ipython",
    "version": 3
   },
   "file_extension": ".py",
   "mimetype": "text/x-python",
   "name": "python",
   "nbconvert_exporter": "python",
   "pygments_lexer": "ipython3",
   "version": "3.11.7"
  }
 },
 "nbformat": 4,
 "nbformat_minor": 5
}
