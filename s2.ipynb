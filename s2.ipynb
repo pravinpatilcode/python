{
 "cells": [
  {
   "cell_type": "code",
   "execution_count": 40,
   "id": "cb5ae4ad-4917-48c5-aea1-3225a05537bd",
   "metadata": {},
   "outputs": [
    {
     "name": "stdin",
     "output_type": "stream",
     "text": [
      "Enter a character (A, B, C):  c\n"
     ]
    },
    {
     "name": "stdout",
     "output_type": "stream",
     "text": [
      "Excel\n"
     ]
    }
   ],
   "source": [
    "#                                                             sprint 2\n",
    "\"\"\"Q1, Accept a character from the user. If the user enters:\n",
    "'A', then display \"Python\"\n",
    "'B', then display \"MySQL\"\n",
    "'C', then display \"Excel\"\n",
    "If the user enters any other character, then display \"Holiday\".\"\"\"\n",
    "\n",
    "put = input(\"Enter a character (A, B, C): \")\n",
    "if put == \"A\" or put== \"a\":\n",
    "    print(\"Python\")\n",
    "elif put == \"B\" or put== \"b\":\n",
    "    print(\"MySQL\")\n",
    "elif put == \"C\" or put== \"c\":\n",
    "    print(\"Excel\")\n",
    "else :\n",
    "    print(\"HOLIDAY\")"
   ]
  },
  {
   "cell_type": "code",
   "execution_count": 26,
   "id": "31a27add-885e-477f-a6ab-4adc3dfee35c",
   "metadata": {},
   "outputs": [
    {
     "name": "stdin",
     "output_type": "stream",
     "text": [
      "Enter a num  2\n",
      "Enter a num  2\n"
     ]
    },
    {
     "name": "stdout",
     "output_type": "stream",
     "text": [
      "Equal no.\n"
     ]
    }
   ],
   "source": [
    "#Q2, Accept two numbers from the user and display the higher of the two numbers\n",
    "put1 = input(\"Enter a num \")\n",
    "put2 = input(\"Enter a num \")\n",
    "if put1 > put2:\n",
    "    print(\"The higher number is \" + put1)\n",
    "if put1 < put2:\n",
    "    print(\"The higher number is \" + put2)\n",
    "else:\n",
    "    print(\"Equal no.\")"
   ]
  },
  {
   "cell_type": "code",
   "execution_count": 34,
   "id": "bb6937b6-e4ba-4bc0-94b4-1271f000e1b1",
   "metadata": {},
   "outputs": [
    {
     "name": "stdin",
     "output_type": "stream",
     "text": [
      "Enter salary 2222\n"
     ]
    },
    {
     "name": "stdout",
     "output_type": "stream",
     "text": [
      "30663.6\n"
     ]
    }
   ],
   "source": [
    "\"\"\"Q3, If the monthly basic salary is less than $4,000, the user will get 10% HRA and 5% TA on basic salary.\n",
    "If the monthly basic salary is between $4,001 and $10,000, the user will get 10% HRA and 10% TA on basic salary.\n",
    "If the monthly basic salary is above $10,000, the user will get 15% HRA and 15% TA on basic salary.\n",
    "Create a program that accepts basic salary as input and displays the annual gross salary.\n",
    "Hint: Gross salary = [(Basic salary) + (HRA on basic salary) + (TA on basic salary)]*12\"\"\"\n",
    "basic_salary = float(input(\"Enter salary\"))\n",
    "if basic_salary < 4000:\n",
    "    hra = 0.10 * basic_salary\n",
    "    ta = 0.05 * basic_salary\n",
    "    print((basic_salary +  hra + ta) * 12)\n",
    "elif 4001 <= basic_salary <= 10000:\n",
    "    hra = 0.10 * basic_salary\n",
    "    ta = 0.10 * basic_salary\n",
    "    print((basic_salary +  hra + ta) * 12)\n",
    "else:  # basic_salary > 10000\n",
    "    hra = 0.15 * basic_salary\n",
    "    ta = 0.15 * basic_salary\n",
    "    print((basic_salary +  hra + ta) * 12)"
   ]
  },
  {
   "cell_type": "code",
   "execution_count": 46,
   "id": "60b06dc2-ce78-4b56-82cc-b387270fd95e",
   "metadata": {},
   "outputs": [
    {
     "name": "stdin",
     "output_type": "stream",
     "text": [
      "Enter a word to search:  is\n"
     ]
    },
    {
     "name": "stdout",
     "output_type": "stream",
     "text": [
      "YES\n"
     ]
    }
   ],
   "source": [
    "#Q4, Searching a Word in a Paragraph\n",
    "var = \"Python is an interpreted, high-level, general- purpose programming language. Its design philosophy emphasizes code readability, with its use of significant indentation. Its language constructs as well as its object-oriented approach aim to help programmers write clear, logical code for small and large-scale projects.\"\n",
    "\n",
    "search = input(\"Enter a word to search: \")\n",
    "if search in var:\n",
    "    print(\"YES\")\n",
    "else:\n",
    "    print(\"NO\")"
   ]
  },
  {
   "cell_type": "code",
   "execution_count": 50,
   "id": "c476dc5f-0d33-47c2-afee-b628c40589bf",
   "metadata": {},
   "outputs": [
    {
     "name": "stdin",
     "output_type": "stream",
     "text": [
      "Enter an alphabet: h\n"
     ]
    },
    {
     "name": "stdout",
     "output_type": "stream",
     "text": [
      "lowercase\n"
     ]
    }
   ],
   "source": [
    "#Q5,Checking if a Character is Uppercase or Lowercase\n",
    "\n",
    "char = input(\"Enter an alphabet:\")\n",
    "if len(char) == 1 and char.isalpha():\n",
    "    if char.isupper():\n",
    "        print(\"UPPERCASE\")\n",
    "    else:\n",
    "        print(\"lowercase\")\n",
    "else:\n",
    "    print(\"Please enter a single alphabet character.\")\n"
   ]
  },
  {
   "cell_type": "code",
   "execution_count": 58,
   "id": "0bace2d7-b6bc-479c-b7ca-4ef5a8f42fc5",
   "metadata": {},
   "outputs": [
    {
     "name": "stdin",
     "output_type": "stream",
     "text": [
      "Enter an alphabet:  v\n"
     ]
    },
    {
     "name": "stdout",
     "output_type": "stream",
     "text": [
      "consonant\n"
     ]
    }
   ],
   "source": [
    "#Q6 Checking if an Alphabet is a Vowel or a Consonant\n",
    "char = input(\"Enter an alphabet: \").lower()  \n",
    "\n",
    "if len(char) == 1 and char.isalpha():\n",
    "    vowels = {'a', 'e', 'i', 'o', 'u'}\n",
    "    \n",
    "    if char in vowels:\n",
    "        print(\"vowel\")\n",
    "    else:\n",
    "        print(\"consonant\")\n",
    "else:\n",
    "    print(\"Please enter a single alphabet character.\")\n"
   ]
  },
  {
   "cell_type": "code",
   "execution_count": null,
   "id": "d9c20df3-3f05-4ff2-9806-3bf169fb33a7",
   "metadata": {},
   "outputs": [],
   "source": []
  }
 ],
 "metadata": {
  "kernelspec": {
   "display_name": "Python 3 (ipykernel)",
   "language": "python",
   "name": "python3"
  },
  "language_info": {
   "codemirror_mode": {
    "name": "ipython",
    "version": 3
   },
   "file_extension": ".py",
   "mimetype": "text/x-python",
   "name": "python",
   "nbconvert_exporter": "python",
   "pygments_lexer": "ipython3",
   "version": "3.11.7"
  }
 },
 "nbformat": 4,
 "nbformat_minor": 5
}
