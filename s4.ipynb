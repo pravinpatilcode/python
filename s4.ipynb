{
 "cells": [
  {
   "cell_type": "code",
   "execution_count": 1,
   "id": "ced1e66d-33e1-45f2-834c-cfcca5cfb97c",
   "metadata": {},
   "outputs": [
    {
     "name": "stdin",
     "output_type": "stream",
     "text": [
      "enter number 6\n"
     ]
    },
    {
     "name": "stdout",
     "output_type": "stream",
     "text": [
      "The factorial of 6 is 720\n"
     ]
    }
   ],
   "source": [
    "#                                        sprint 4\n",
    "#Q1,Factorial of a Number\n",
    "n = int(input(\"enter number\"))\n",
    "factorial = 1\n",
    "k=n\n",
    "while(k>0):\n",
    "    factorial *= k\n",
    "    k=k-1\n",
    "print(f\"The factorial of {n} is {factorial}\")"
   ]
  },
  {
   "cell_type": "code",
   "execution_count": 6,
   "id": "596f7753-5f3a-4b5c-a6e9-26a5b09f475f",
   "metadata": {},
   "outputs": [
    {
     "name": "stdout",
     "output_type": "stream",
     "text": [
      "50 is not a prime number.\n",
      "51 is not a prime number.\n"
     ]
    }
   ],
   "source": [
    "#Q2,Prime Numbers, Create a program that uses \"while\" loop to check if 50 and 51 are prime numbers.\n",
    "\n",
    "def is_prime(n):\n",
    "    if n <= 1:\n",
    "        return False\n",
    "    i = 2\n",
    "    while i * i <= n:\n",
    "        if n % i == 0:\n",
    "            return False\n",
    "        i += 1\n",
    "    return True\n",
    "\n",
    "number1 = 50\n",
    "if is_prime(number1):\n",
    "    print(f\"{number1} is a prime number.\")\n",
    "else:\n",
    "    print(f\"{number1} is not a prime number.\")\n",
    "\n",
    "\n",
    "number2 = 51\n",
    "if is_prime(number2):\n",
    "    print(f\"{number2} is a prime number.\")\n",
    "else:\n",
    "    print(f\"{number2} is not a prime number.\")\n"
   ]
  },
  {
   "cell_type": "code",
   "execution_count": 9,
   "id": "66869e65-5cff-4778-b300-e9e492e8048b",
   "metadata": {},
   "outputs": [
    {
     "name": "stdin",
     "output_type": "stream",
     "text": [
      "Enter a five-digit number:  635\n"
     ]
    },
    {
     "name": "stdout",
     "output_type": "stream",
     "text": [
      "The sum of the digits of 635 is 14\n"
     ]
    }
   ],
   "source": [
    "#Q3, Take input of a five-digit number from the user. Write a program using the \"while\" loop to calculate the sum of the digits of the number entered by the user.\n",
    "\n",
    "number = input(\"Enter a five-digit number: \")\n",
    "sum_of_digits = 0\n",
    "num = int(number)\n",
    "\n",
    "# Calculate the sum of digits using a while loop\n",
    "while num > 0:\n",
    "    digit = num % 10 \n",
    "    sum_of_digits += digit  \n",
    "    num = num // 10  \n",
    "\n",
    "print(f\"The sum of the digits of {number} is {sum_of_digits}\")\n"
   ]
  },
  {
   "cell_type": "code",
   "execution_count": 10,
   "id": "17ab7007-282a-4bab-941d-d0988cc181b4",
   "metadata": {},
   "outputs": [
    {
     "name": "stdout",
     "output_type": "stream",
     "text": [
      "Fibonacci series up to 7 values: [0, 1, 1, 2, 3, 5, 8]\n"
     ]
    }
   ],
   "source": [
    "#Q4, Fibonacci Series, Using \"while\" loop, write a program to display the Fibonacci series up to 7 values.\n",
    "# Initialize the first two numbers of the Fibonacci series\n",
    "a, b = 0, 1\n",
    "\n",
    "# Initialize a counter\n",
    "count = 0\n",
    "\n",
    "# Number of values to generate in the Fibonacci series\n",
    "n = 7\n",
    "\n",
    "# List to store Fibonacci series\n",
    "fibonacci_series = []\n",
    "\n",
    "# Generate Fibonacci series using a while loop\n",
    "while count < n:\n",
    "    fibonacci_series.append(a)\n",
    "    a, b = b, a + b\n",
    "    count += 1\n",
    "\n",
    "# Print the Fibonacci series\n",
    "print(\"Fibonacci series up to 7 values:\", fibonacci_series)\n"
   ]
  },
  {
   "cell_type": "code",
   "execution_count": 15,
   "id": "86318f09-05d4-49a0-bd5c-6d89786878f6",
   "metadata": {},
   "outputs": [
    {
     "name": "stdout",
     "output_type": "stream",
     "text": [
      "ID of t1 before concatenation: 2139364300352\n",
      "ID of t2 before concatenation: 2139364299200\n",
      "(1, 2, 3)\n",
      "ID of t1 after concatenation: 2139338895904\n",
      "ID of t2 after concatenation: 2139364299200\n",
      "(1, 2, 3, 4, 5, 6)\n"
     ]
    }
   ],
   "source": [
    "#Q5, Execute the command t1 = t1 t2.Display the ids of both tuples after the above operation.Is there any change in the ids of both tuples? Why or why not?Note: The id() function returns the unique identifier of a variable.\n",
    "\n",
    "t1 = (1, 2, 3)\n",
    "t2 = (4, 5, 6)\n",
    "\n",
    "print(\"ID of t1 before concatenation:\", id(t1))\n",
    "print(\"ID of t2 before concatenation:\", id(t2))\n",
    "print(t1)\n",
    "t1 = t1 + t2\n",
    "\n",
    "print(\"ID of t1 after concatenation:\", id(t1))\n",
    "print(\"ID of t2 after concatenation:\", id(t2))\n",
    "print(t1)"
   ]
  },
  {
   "cell_type": "code",
   "execution_count": 16,
   "id": "f14d2a19-d4ef-4616-85a3-d9b6dbaed6ca",
   "metadata": {},
   "outputs": [
    {
     "name": "stdout",
     "output_type": "stream",
     "text": [
      "Set m after inserting elements from list n: {70, 10, 20, 30, 33, 40, 50, 55, 60}\n"
     ]
    }
   ],
   "source": [
    "#Q6,What happened to the elements that were common in the two data structures? Provide explanation.Note: Use the \"add\" function to insert elements into the set. You may use either the \"for\" loop or the \"while\" loop to perform this task.Inserting Data Into SetsConsider the following data structures: m = {10, 20, 30, 40, 50} # m is a set n = [33, 40, 55, 60, 70] # n is a list Insert the elements of list n into set m one by one and print the output.What happened to the elements that were common in the two data structures? Provide explanation.Note: Use the \"add\" function to insert elements into the set. You may use either the \"for\" loop or the \"while\" loop to perform this task.\n",
    "\n",
    "m = {10, 20, 30, 40, 50}\n",
    "n = [33, 40, 55, 60, 70]\n",
    "\n",
    "for element in n:\n",
    "    m.add(element)\n",
    "print(\"Set m after inserting elements from list n:\", m)\n"
   ]
  },
  {
   "cell_type": "code",
   "execution_count": 17,
   "id": "914cc726-8fc8-4451-a606-55bb6b6ec9b3",
   "metadata": {},
   "outputs": [
    {
     "name": "stdout",
     "output_type": "stream",
     "text": [
      "Data: 2\n",
      "SQL: 4\n"
     ]
    }
   ],
   "source": [
    "#Q7, Iterating Over a Dictionary Data Structure Using \"while\" loop, create a program that prints those key-value pairs that contain values which are even numbers.\n",
    "Data_Set = {'Python': 1, 'Data': 2, 'Excel': 3, 'SQL': 4}\n",
    "\n",
    "for key, value in Data_Set.items():\n",
    "    if value % 2 == 0:\n",
    "        print(f\"{key}: {value}\")\n"
   ]
  },
  {
   "cell_type": "code",
   "execution_count": 19,
   "id": "b9ddf7ad-40d8-479d-b801-c61c157ac8f1",
   "metadata": {},
   "outputs": [
    {
     "name": "stdout",
     "output_type": "stream",
     "text": [
      "{1: 1, 2: 4, 3: 9, 4: 16, 5: 25, 6: 36, 7: 49, 8: 64, 9: 81, 10: 100, 11: 121, 12: 144, 13: 169, 14: 196, 15: 225, 100: 10000}\n"
     ]
    }
   ],
   "source": [
    "#Q8, Write a Python program to create a dictionary where the keys are the integers from 1 to 15 and the values are squares of the keys.\n",
    "D = {}\n",
    "for i in range(1, 15 + 1):\n",
    "    D[i] = i ** 2\n",
    "D.update({100: 10000})\n",
    "print(D)\n"
   ]
  },
  {
   "cell_type": "code",
   "execution_count": null,
   "id": "772811a7-5ee4-4e12-8d2d-be13c591c7cc",
   "metadata": {},
   "outputs": [],
   "source": []
  }
 ],
 "metadata": {
  "kernelspec": {
   "display_name": "Python 3 (ipykernel)",
   "language": "python",
   "name": "python3"
  },
  "language_info": {
   "codemirror_mode": {
    "name": "ipython",
    "version": 3
   },
   "file_extension": ".py",
   "mimetype": "text/x-python",
   "name": "python",
   "nbconvert_exporter": "python",
   "pygments_lexer": "ipython3",
   "version": "3.11.7"
  }
 },
 "nbformat": 4,
 "nbformat_minor": 5
}
