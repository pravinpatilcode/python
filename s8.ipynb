{
 "cells": [
  {
   "cell_type": "code",
   "execution_count": 20,
   "id": "86983774",
   "metadata": {},
   "outputs": [
    {
     "data": {
      "text/plain": [
       "'1002,the room on the roof,3.00,10'"
      ]
     },
     "execution_count": 20,
     "metadata": {},
     "output_type": "execute_result"
    }
   ],
   "source": [
    "## task 1:create class named product to encapsulate id,name,price,quantity\n",
    "\n",
    "class Product:\n",
    " \n",
    "\n",
    "  def __init__(self, id, name, price, quantity):\n",
    "\n",
    "    self.id = id\n",
    "    self.name = name\n",
    "    self.price = price\n",
    "    self.quantity = quantity\n",
    "\n",
    "  def add_product(self, quantity):\n",
    "    \n",
    "\n",
    "    if quantity <= 0:\n",
    "      raise ValueError(\"Quantity must be a positive integer.\")\n",
    "    self.quantity += quantity\n",
    "\n",
    "  def display_product(self):\n",
    "    \n",
    "    print(f\"Product ID: {self.id}\\nName: {self.name}\\nPrice: ${self.price:.2f}\\nQuantity: {self.quantity}\")\n",
    "\n",
    "  def format_product(self):\n",
    "   \n",
    "\n",
    "    return f\"{self.id},{self.name},{self.price:.2f},{self.quantity}\"\n",
    "\n",
    "\n",
    "# Example usage\n",
    "product1 = Product(1001, \"blue umbrella\", 2, 12)\n",
    "product2=Product(1002,'the room on the roof',3,10)\n",
    "product2.format_product()\n"
   ]
  },
  {
   "cell_type": "code",
   "execution_count": 21,
   "id": "4daa4839",
   "metadata": {},
   "outputs": [
    {
     "data": {
      "text/plain": [
       "'1001,blue umbrella,2.00,12'"
      ]
     },
     "execution_count": 21,
     "metadata": {},
     "output_type": "execute_result"
    }
   ],
   "source": [
    "product1.format_product()"
   ]
  },
  {
   "cell_type": "code",
   "execution_count": 22,
   "id": "427d90d8",
   "metadata": {},
   "outputs": [],
   "source": [
    "## task 2 b: write information two product details into products\n",
    "def write_product_info(product_id, name, price, quantity):\n",
    "\n",
    "  try:\n",
    "    # Open the file in append mode ('a') to add new content without erasing existing data.\n",
    "    with open(\"product_detail.txt\", \"a\") as file:\n",
    "      # Calculate the total price\n",
    "      total_price = price * quantity\n",
    "\n",
    "      # Write the product information to the file in a comma-separated format\n",
    "      file.write(f\"{product_id},{name},{price:.2f},{quantity},{total_price:.2f}\\n\")\n",
    "\n",
    "  except IOError as error:\n",
    "    print(f\"An error occurred while writing to the file: {error}\")\n",
    "\n",
    "# Example usage\n",
    "write_product_info(1001, \"The Blue Umbrella\", 2.00, 12)\n",
    "write_product_info(1002, \"The Room on the Roof\", 3.00, 10)\n",
    "\n"
   ]
  },
  {
   "cell_type": "code",
   "execution_count": 23,
   "id": "9d00b9be",
   "metadata": {},
   "outputs": [
    {
     "name": "stdout",
     "output_type": "stream",
     "text": [
      "1001,The Blue Umbrella,2.00,12,24.00\n",
      "1002,The Room on the Roof,3.00,10,30.00\n",
      "1001,The Blue Umbrella,2.00,12,24.00\n",
      "1002,The Room on the Roof,3.00,10,30.00\n",
      "1001,The Blue Umbrella,2.00,12,24.00\n",
      "1002,The Room on the Roof,3.00,10,30.00\n",
      "1001,The Blue Umbrella,2.00,12,24.00\n",
      "1002,The Room on the Roof,3.00,10,30.00\n",
      "\n",
      "the file has been read successfully\n"
     ]
    }
   ],
   "source": [
    "## task 3 a: read the product_details file and error handling\n",
    "try:\n",
    "  with open('product_detail.txt', \"r\") as f:\n",
    "    # Read the contents of the file\n",
    "    product_info = f.read()\n",
    "    print(product_info)  # Directly print the content\n",
    "except IsADirectoryError:\n",
    "  print(\"The provided filename is a directory, not a file.\")\n",
    "except FileNotFoundError:\n",
    "  print(\"The specified file does not exist.\")\n",
    "finally:\n",
    "    print('the file has been read successfully')\n"
   ]
  },
  {
   "cell_type": "code",
   "execution_count": null,
   "id": "233982f7",
   "metadata": {},
   "outputs": [],
   "source": []
  },
  {
   "cell_type": "code",
   "execution_count": null,
   "id": "cb22ea31",
   "metadata": {},
   "outputs": [],
   "source": []
  },
  {
   "cell_type": "code",
   "execution_count": 24,
   "id": "bc64f119",
   "metadata": {},
   "outputs": [],
   "source": [
    "#task 3b\n",
    "class Product:\n",
    "    def __init__(self, product_id, product_name, price, quantity):\n",
    "        self.product_id = product_id\n",
    "        self.product_name = product_name\n",
    "        self.price = price\n",
    "        self.quantity = quantity  # New attribute for quantity\n",
    "\n",
    "    def display_product(self):\n",
    "        return f\"Product ID: {self.product_id}, Product Name: {self.product_name}, Price: {self.price}, Quantity: {self.quantity}\"\n"
   ]
  },
  {
   "cell_type": "code",
   "execution_count": 19,
   "id": "2517642c",
   "metadata": {},
   "outputs": [
    {
     "name": "stdout",
     "output_type": "stream",
     "text": [
      "Product ID: 1002, Product Name: The Room on the Roof, Price: 3.0, Quantity: 10\n",
      "Product ID: 1001, Product Name: The Blue Umbrella, Price: 2.0, Quantity: 12\n",
      "Product ID: 1002, Product Name: The Room on the Roof, Price: 3.0, Quantity: 10\n",
      "Product ID: 1001, Product Name: The Blue Umbrella, Price: 2.0, Quantity: 12\n",
      "Product ID: 1002, Product Name: The Room on the Roof, Price: 3.0, Quantity: 10\n",
      "Data processing completed.\n"
     ]
    }
   ],
   "source": [
    "product_list = []\n",
    "\n",
    "try:\n",
    "    with open('product_detail.txt', \"r\") as f:\n",
    "        lines = f.readlines()[1:]  # Read all lines except the first one (assuming it's a header)\n",
    "        for line in lines:\n",
    "            try:\n",
    "                # Split line by commas, strip whitespace, and extract product data\n",
    "                product_data = line.strip().split(',')\n",
    "                \n",
    "                # Ensure that all required data fields are present\n",
    "                if len(product_data) < 4:\n",
    "                    raise IndexError(\"Insufficient data fields\")\n",
    "                \n",
    "                # Convert data to appropriate types (assuming data format)\n",
    "                product_id = int(product_data[0].strip())\n",
    "                product_name = product_data[1].strip()\n",
    "                price = float(product_data[2].strip())\n",
    "                quantity = int(product_data[3].strip())  # New: Parse quantity as integer\n",
    "                \n",
    "                # Create Product object with all required arguments\n",
    "                product = Product(product_id, product_name, price, quantity)\n",
    "                \n",
    "                # Display product information (optional)\n",
    "                print(product.display_product())\n",
    "                \n",
    "                # Append product to product_list\n",
    "                product_list.append(product)\n",
    "            \n",
    "            except IndexError:\n",
    "                print(f\"Error processing line: {line.strip()}. Insufficient data.\")\n",
    "            except ValueError as e:\n",
    "                print(f\"Error converting data: {e}. Error parsing line: {line.strip()}\")\n",
    "\n",
    "except IsADirectoryError:\n",
    "    print(\"The provided filename is a directory, not a file.\")\n",
    "except FileNotFoundError:\n",
    "    print(\"The specified file does not exist.\")\n",
    "finally:\n",
    "    print('Data processing completed.')\n"
   ]
  },
  {
   "cell_type": "code",
   "execution_count": null,
   "id": "1908e4d4",
   "metadata": {},
   "outputs": [],
   "source": []
  },
  {
   "cell_type": "code",
   "execution_count": null,
   "id": "7da17535",
   "metadata": {},
   "outputs": [],
   "source": []
  }
 ],
 "metadata": {
  "kernelspec": {
   "display_name": "Python 3 (ipykernel)",
   "language": "python",
   "name": "python3"
  },
  "language_info": {
   "codemirror_mode": {
    "name": "ipython",
    "version": 3
   },
   "file_extension": ".py",
   "mimetype": "text/x-python",
   "name": "python",
   "nbconvert_exporter": "python",
   "pygments_lexer": "ipython3",
   "version": "3.11.7"
  }
 },
 "nbformat": 4,
 "nbformat_minor": 5
}
