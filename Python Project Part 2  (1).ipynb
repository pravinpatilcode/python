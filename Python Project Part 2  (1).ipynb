{
 "cells": [
  {
   "cell_type": "code",
   "execution_count": 1,
   "id": "304134ee",
   "metadata": {},
   "outputs": [
    {
     "name": "stdout",
     "output_type": "stream",
     "text": [
      "Welcome to the Word Guessing Game!\n",
      "The secret word has 3 letters.\n",
      "Clues : Words are belongs to programing language\n",
      "\n",
      "Attempts left: 5\n"
     ]
    },
    {
     "name": "stdin",
     "output_type": "stream",
     "text": [
      "Enter your guess:  bhvh\n"
     ]
    },
    {
     "name": "stdout",
     "output_type": "stream",
     "text": [
      "Incorrect guess. Try again.\n",
      "\n",
      "Attempts left: 4\n"
     ]
    },
    {
     "name": "stdin",
     "output_type": "stream",
     "text": [
      "Enter your guess:  bjhbjhb\n"
     ]
    },
    {
     "name": "stdout",
     "output_type": "stream",
     "text": [
      "Incorrect guess. Try again.\n",
      "\n",
      "Attempts left: 3\n"
     ]
    },
    {
     "name": "stdin",
     "output_type": "stream",
     "text": [
      "Enter your guess:  hvh\n"
     ]
    },
    {
     "name": "stdout",
     "output_type": "stream",
     "text": [
      "Incorrect guess. Try again.\n",
      "\n",
      "Attempts left: 2\n"
     ]
    },
    {
     "name": "stdin",
     "output_type": "stream",
     "text": [
      "Enter your guess:  vv\n"
     ]
    },
    {
     "name": "stdout",
     "output_type": "stream",
     "text": [
      "Incorrect guess. Try again.\n",
      "\n",
      "Attempts left: 1\n"
     ]
    },
    {
     "name": "stdin",
     "output_type": "stream",
     "text": [
      "Enter your guess:  b'\n"
     ]
    },
    {
     "name": "stdout",
     "output_type": "stream",
     "text": [
      "Incorrect guess. Try again.\n",
      "\n",
      "Sorry, you've run out of attempts. The secret word was 'php'.\n"
     ]
    }
   ],
   "source": [
    "#-------------------------------------------------------------------Project Part-2\n",
    "\n",
    "#-------------------------------------------------------------------TASK 1\n",
    "#Write Python code to develop a word guessing game where employees attempt to guess a secret word from a provided list by making a series of guesses. Clues, such as optional information about the number of letters or characters in the word, can be given to assist in the guessing process.\n",
    "\n",
    "import random   \n",
    "#importing random, to choose randam word from parameter\n",
    "def word_guessing_game(word_list):   # defining function with parameter\n",
    "    secret_word = random.choice(word_list)\n",
    "    word_length = len(secret_word)\n",
    "    \n",
    "    print(\"Welcome to the Word Guessing Game!\")\n",
    "    print(f\"The secret word has {word_length} letters.\")\n",
    "    print(\"Clues : Words are belongs to programing language\")\n",
    "    \n",
    "    attempts = 0\n",
    "    max_attempts = 5\n",
    "    \n",
    "    while attempts < max_attempts:   # using while loop to iterate specific no.of times\n",
    "        print(\"\\nAttempts left:\", max_attempts - attempts)\n",
    "        guess = input(\"Enter your guess: \").strip().lower()    # Taking input from user as a answer\n",
    "        \n",
    "        if guess == secret_word:\n",
    "            print(\"Congratulations! You guessed the secret word correctly.\")\n",
    "            break                                                             #if the condition is satisfied the loop will break here\n",
    "        else:\n",
    "            print(\"Incorrect guess. Try again.\")\n",
    "            attempts += 1\n",
    "    \n",
    "    if attempts == max_attempts:\n",
    "        print(f\"\\nSorry, you've run out of attempts. The secret word was '{secret_word}'.\")\n",
    "\n",
    "# Example usage:\n",
    "word_list = [\"python\", \"java\", \"ruby\", \"javascript\", \"php\"]   #inputing the parameters to start the game \n",
    "word_guessing_game(word_list)                                 # calling the function with parameter\n"
   ]
  },
  {
   "cell_type": "raw",
   "id": "c16d1447",
   "metadata": {},
   "source": [
    "#--------------------------TASK 2\n",
    "\n",
    "Define a method named menu() that prints the following options of the application:\n",
    "1.\n",
    "Play Riddle Puzzle.\n",
    "2.\n",
    "Play Arithmetic Puzzle.\n",
    "3.\n",
    "Play General Knowledge quiz game.\n",
    "4.\n",
    "Play Rock-Paper-Scissor game with the computer.\n",
    "5\n",
    ". Play Rock-Paper-Scissor game with a user.\n",
    "6.\n",
    "Play Word-Guessing game with the computer.\n",
    "Enter any option by typing a number between 1 and 6.\n",
    "\n",
    "Finally, write the main() method and observe the program's behavior as follows:\n",
    "1. The program will start by printing the application menu.\n",
    "2. The program will prompt the user to enter an option by choosing a number between 1 and 6.\n",
    "3. If the user enters the option value as 1, then execute the program to play the riddle puzzle.\n",
    "4. If the user enters the option value as 2, then execute the program to play the arithmetic puzzle.\n",
    "5. If the user enters the option value as 3, then execute the program to play the General Knowledge quiz game.\n",
    "6. If the user enters the option value as 4, then execute the program to play the rock-paper-scissors game with the computer.\n",
    "7. If the user enters the option value as 5, then execute the program to play the rock-paper-scissors game between users.\n",
    "8. If the user enters the option value as 6, then execute the program to play word guessing game.\n",
    "9. If the user enters any value outside the range of 1 to 6, then the program will display 'You have entered the wrong option.'\n",
    "10. The program will prompt the user to enter their choice (Y/y for Yes or N/n for No) to either repeat the menu to play another game or quit the main program.\n",
    "\n",
    "Ensure to include exception handling to manage possible errors during the execution of the games.\n",
    "Additionally, specify that the menu() method should be defined as a static method within the GameMenu class to allow direct access using the class name.\n"
   ]
  },
  {
   "cell_type": "code",
   "execution_count": 2,
   "id": "f349fbf7-6249-4e09-b3bc-1f926876a462",
   "metadata": {},
   "outputs": [
    {
     "name": "stdout",
     "output_type": "stream",
     "text": [
      "Welcome to the Game Menu!\n",
      "1. Play Riddle Puzzle.\n",
      "2. Play Arithmetic Puzzle.\n",
      "3. Play General Knowledge quiz game.\n",
      "4. Play Rock-Paper-Scissor game with the computer.\n",
      "5. Play Rock-Paper-Scissor game with a user.\n",
      "6. Play Word-Guessing game with the computer.\n",
      "Enter any option by typing a number between 1 and 6.\n"
     ]
    },
    {
     "name": "stdin",
     "output_type": "stream",
     "text": [
      "Enter your choice (1-6):  1\n"
     ]
    },
    {
     "name": "stdout",
     "output_type": "stream",
     "text": [
      "\n",
      "Riddle:\n",
      "The more of this there is, the less you see. What is it?\n"
     ]
    },
    {
     "name": "stdin",
     "output_type": "stream",
     "text": [
      "Your answer:  echo\n"
     ]
    },
    {
     "name": "stdout",
     "output_type": "stream",
     "text": [
      "Incorrect. The correct answer is 'darkness'.\n"
     ]
    },
    {
     "name": "stdin",
     "output_type": "stream",
     "text": [
      "\n",
      "Do you want to play again? (yes/no):  yes\n"
     ]
    },
    {
     "name": "stdout",
     "output_type": "stream",
     "text": [
      "\n",
      "Riddle:\n",
      "I speak without a mouth and hear without ears. I have no body, but I come alive with the wind. What am I?\n"
     ]
    },
    {
     "name": "stdin",
     "output_type": "stream",
     "text": [
      "Your answer:  echo\n"
     ]
    },
    {
     "name": "stdout",
     "output_type": "stream",
     "text": [
      "Correct!\n"
     ]
    },
    {
     "name": "stdin",
     "output_type": "stream",
     "text": [
      "\n",
      "Do you want to play again? (yes/no):  yes\n"
     ]
    },
    {
     "name": "stdout",
     "output_type": "stream",
     "text": [
      "\n",
      "Riddle:\n",
      "What has keys but can't open locks?\n"
     ]
    },
    {
     "name": "stdin",
     "output_type": "stream",
     "text": [
      "Your answer:  piano\n"
     ]
    },
    {
     "name": "stdout",
     "output_type": "stream",
     "text": [
      "Correct!\n"
     ]
    },
    {
     "name": "stdin",
     "output_type": "stream",
     "text": [
      "\n",
      "Do you want to play again? (yes/no):  no\n"
     ]
    },
    {
     "name": "stdout",
     "output_type": "stream",
     "text": [
      "\n",
      "Your final score: 40.00%\n"
     ]
    },
    {
     "name": "stdin",
     "output_type": "stream",
     "text": [
      "Do you want to repeat the menu to play another game? (Y/y for Yes, N/n for No):  y\n"
     ]
    },
    {
     "name": "stdout",
     "output_type": "stream",
     "text": [
      "1. Play Riddle Puzzle.\n",
      "2. Play Arithmetic Puzzle.\n",
      "3. Play General Knowledge quiz game.\n",
      "4. Play Rock-Paper-Scissor game with the computer.\n",
      "5. Play Rock-Paper-Scissor game with a user.\n",
      "6. Play Word-Guessing game with the computer.\n",
      "Enter any option by typing a number between 1 and 6.\n"
     ]
    },
    {
     "name": "stdin",
     "output_type": "stream",
     "text": [
      "Enter your choice (1-6):  3\n"
     ]
    },
    {
     "name": "stdout",
     "output_type": "stream",
     "text": [
      "Welcome to the General Knowledge Quiz Game!\n",
      "Select a category:\n",
      "1. Science\n",
      "2. Mathematics\n",
      "3. Geography\n",
      "4. Other\n"
     ]
    },
    {
     "name": "stdin",
     "output_type": "stream",
     "text": [
      "Enter your choice (1-4):  2\n"
     ]
    },
    {
     "name": "stdout",
     "output_type": "stream",
     "text": [
      "\n",
      "Question: What is the square root of 100?\n"
     ]
    },
    {
     "name": "stdin",
     "output_type": "stream",
     "text": [
      "Your answer:  10\n"
     ]
    },
    {
     "name": "stdout",
     "output_type": "stream",
     "text": [
      "Correct!\n"
     ]
    },
    {
     "name": "stdin",
     "output_type": "stream",
     "text": [
      "\n",
      "Do you want to play again? (yes/no):  no\n"
     ]
    },
    {
     "name": "stdout",
     "output_type": "stream",
     "text": [
      "\n",
      "Quiz Summary:\n",
      "Total questions: 1\n",
      "Correct answers: 1\n",
      "Percentage correct: 100.00%\n",
      "\n",
      "Thank you for playing!\n"
     ]
    },
    {
     "name": "stdin",
     "output_type": "stream",
     "text": [
      "Do you want to repeat the menu to play another game? (Y/y for Yes, N/n for No):  y\n"
     ]
    },
    {
     "name": "stdout",
     "output_type": "stream",
     "text": [
      "1. Play Riddle Puzzle.\n",
      "2. Play Arithmetic Puzzle.\n",
      "3. Play General Knowledge quiz game.\n",
      "4. Play Rock-Paper-Scissor game with the computer.\n",
      "5. Play Rock-Paper-Scissor game with a user.\n",
      "6. Play Word-Guessing game with the computer.\n",
      "Enter any option by typing a number between 1 and 6.\n"
     ]
    },
    {
     "name": "stdin",
     "output_type": "stream",
     "text": [
      "Enter your choice (1-6):  6\n"
     ]
    },
    {
     "name": "stdout",
     "output_type": "stream",
     "text": [
      "Welcome to the Word Guessing Game!\n",
      "The secret word has 3 letters.\n",
      "Clues : Words are belongs to programming language\n",
      "\n",
      "Attempts left: 5\n"
     ]
    },
    {
     "name": "stdin",
     "output_type": "stream",
     "text": [
      "Enter your guess:  php\n"
     ]
    },
    {
     "name": "stdout",
     "output_type": "stream",
     "text": [
      "Congratulations! You guessed the secret word correctly.\n"
     ]
    },
    {
     "name": "stdin",
     "output_type": "stream",
     "text": [
      "Do you want to repeat the menu to play another game? (Y/y for Yes, N/n for No):  n\n"
     ]
    },
    {
     "name": "stdout",
     "output_type": "stream",
     "text": [
      "Thank you for Playing\n"
     ]
    }
   ],
   "source": [
    "# import random\n",
    "\n",
    "# Dictionary of riddles and their corresponding answers\n",
    "riddles = {\n",
    "    \"I speak without a mouth and hear without ears. I have no body, but I come alive with the wind. What am I?\": \"echo\",\n",
    "    \"The more of this there is, the less you see. What is it?\": \"darkness\",\n",
    "    \"What comes once in a minute, twice in a moment, but never in a thousand years?\": \"the letter 'm'\",\n",
    "    \"What has keys but can't open locks?\": \"piano\",\n",
    "    \"What has many keys but can't open a single lock?\": \"keyboard\"\n",
    "}\n",
    "\n",
    "class GameMenu:\n",
    "    @staticmethod\n",
    "    def menu():\n",
    "        print(\"1. Play Riddle Puzzle.\")\n",
    "        print(\"2. Play Arithmetic Puzzle.\")\n",
    "        print(\"3. Play General Knowledge quiz game.\")\n",
    "        print(\"4. Play Rock-Paper-Scissor game with the computer.\")\n",
    "        print(\"5. Play Rock-Paper-Scissor game with a user.\")\n",
    "        print(\"6. Play Word-Guessing game with the computer.\")\n",
    "        print(\"Enter any option by typing a number between 1 and 6.\")\n",
    "\n",
    "    @staticmethod\n",
    "    def play_riddle_game():\n",
    "        score = 0\n",
    "        total_riddles = len(riddles)\n",
    "        riddle_keys = list(riddles.keys())\n",
    "        \n",
    "        while True:\n",
    "            # Randomly select a riddle\n",
    "            riddle = random.choice(riddle_keys)\n",
    "            correct_answer = riddles[riddle]\n",
    "            \n",
    "            # Display the riddle to the user\n",
    "            print(\"\\nRiddle:\")\n",
    "            print(riddle)\n",
    "            \n",
    "            # Prompt user for an answer\n",
    "            user_answer = input(\"Your answer: \").strip().lower()\n",
    "            \n",
    "            # Check if the answer is correct\n",
    "            if user_answer == correct_answer:\n",
    "                print(\"Correct!\")\n",
    "                score += 1\n",
    "            else:\n",
    "                print(f\"Incorrect. The correct answer is '{correct_answer}'.\")\n",
    "            \n",
    "            # Ask if the user wants to play again\n",
    "            play_again = input(\"\\nDo you want to play again? (yes/no): \").strip().lower()\n",
    "            if play_again != 'yes':\n",
    "                break\n",
    "        \n",
    "        # Calculate and display the final score as a percentage\n",
    "        if total_riddles > 0:\n",
    "            percentage_score = (score / total_riddles) * 100\n",
    "        else:\n",
    "            percentage_score = 0\n",
    "        \n",
    "        print(f\"\\nYour final score: {percentage_score:.2f}%\")\n",
    "\n",
    "    @staticmethod\n",
    "    def play_arithmetic_puzzle():\n",
    "        def generate_problem():\n",
    "            num1 = random.randint(1, 20)\n",
    "            num2 = random.randint(1, 20)\n",
    "            operator = random.choice(['+', '-', '*', '/'])\n",
    "            \n",
    "            if operator == '/' and num2 == 0:\n",
    "                num2 = random.randint(1, 20)\n",
    "            \n",
    "            problem = f\"{num1} {operator} {num2}\"\n",
    "            return problem\n",
    "        \n",
    "        def solve_problem(problem):\n",
    "            try:\n",
    "                result = eval(problem)\n",
    "                return result\n",
    "            except ZeroDivisionError:\n",
    "                return None\n",
    "            except SyntaxError:\n",
    "                return None\n",
    "            except TypeError:\n",
    "                return None\n",
    "        \n",
    "        print(\"Welcome to the Arithmetic Puzzle Game!\")\n",
    "        correct_count = 0\n",
    "        total_count = 0\n",
    "        \n",
    "        while True:\n",
    "            problem = generate_problem()\n",
    "            print(f\"Calculate: {problem}\")\n",
    "            \n",
    "            try:\n",
    "                user_answer = input(\"Your answer (or 'q' to quit): \").strip().lower()\n",
    "                \n",
    "                if user_answer == 'q':\n",
    "                    break\n",
    "                \n",
    "                total_count += 1\n",
    "                correct_answer = solve_problem(problem)\n",
    "                \n",
    "                if correct_answer is None:\n",
    "                    print(\"Invalid operation! Please try again.\")\n",
    "                    continue\n",
    "                \n",
    "                try:\n",
    "                    user_answer = float(user_answer)\n",
    "                    if user_answer == correct_answer:\n",
    "                        print(\"Correct!\")\n",
    "                        correct_count += 1\n",
    "                    else:\n",
    "                        print(f\"Incorrect. The correct answer is {correct_answer}.\")\n",
    "                except ValueError:\n",
    "                    print(\"Invalid input! Please enter a number or 'q' to quit.\")\n",
    "            \n",
    "            except KeyboardInterrupt:\n",
    "                print(\"\\n\\nExiting game...\")\n",
    "                break\n",
    "        \n",
    "        if total_count > 0:\n",
    "            score_percentage = (correct_count / total_count) * 100\n",
    "            print(f\"\\nYour score: {correct_count}/{total_count} ({score_percentage:.2f}% correct)\")\n",
    "        else:\n",
    "            print(\"\\nNo games played. Goodbye!\")\n",
    "\n",
    "    @staticmethod\n",
    "    def play_general_knowledge_quiz():\n",
    "        # Dictionary of questions and answers categorized\n",
    "        questions = {\n",
    "            'Science': [\n",
    "                {\"question\": \"What is the chemical symbol for potassium?\", \"answer\": \"k\"},\n",
    "                {\"question\": \"What is the name of 1st element in periodic table?\", \"answer\": \"hydrogen\"},\n",
    "                {\"question\": \"What is the powerhouse of the cell?\", \"answer\": \"mitochondria\"},\n",
    "            ],\n",
    "            'Mathematics': [\n",
    "                {\"question\": \"What is the square root of 100?\", \"answer\": \"10\"},\n",
    "                {\"question\": \"What is the sum 100 and 200\", \"answer\": \"300\"},\n",
    "                {\"question\": \"What is the value of Pi (π) to two decimal places?\", \"answer\": \"3.14\"},\n",
    "            ],\n",
    "            'Geography': [\n",
    "                {\"question\": \"What is the capital city of India?\", \"answer\": \"new delhi\"},\n",
    "                {\"question\": \"Which state has the highest literacy rate\", \"answer\": \"kerala\"},\n",
    "                {\"question\": \"What is the longest river in the world?\", \"answer\": \"amazon river\"},\n",
    "            ],\n",
    "            'Other': [\n",
    "                {\"question\": \"Capital city of Bangladesh\", \"answer\": \"dhaka\"},\n",
    "                {\"question\": \"What is the largest mammal on Earth?\", \"answer\": \"blue whale\"},\n",
    "                {\"question\": \"Which country is famous for Mount Everest?\", \"answer\": \"nepal\"},\n",
    "            ]\n",
    "        }\n",
    "        \n",
    "        def ask_category():\n",
    "            print(\"Select a category:\")\n",
    "            for index, category in enumerate(questions.keys(), 1):\n",
    "                print(f\"{index}. {category}\")\n",
    "            choice = input(\"Enter your choice (1-4): \").strip()\n",
    "            return choice\n",
    "        \n",
    "        def present_category_options():\n",
    "            choice = ask_category()\n",
    "            while choice not in ['1', '2', '3', '4']:\n",
    "                print(\"Invalid choice. Please enter a number between 1 and 4.\")\n",
    "                choice = ask_category()\n",
    "            return choice\n",
    "        \n",
    "        def ask_question(category):\n",
    "            category_name = list(questions.keys())[int(category) - 1]\n",
    "            question = random.choice(questions[category_name])\n",
    "            return question\n",
    "        \n",
    "        def display_question(question):\n",
    "            print(\"\\nQuestion:\", question[\"question\"])\n",
    "        \n",
    "        def prompt_user_answer():\n",
    "            return input(\"Your answer: \").strip().lower()\n",
    "        \n",
    "        def check_answer(user_answer, correct_answer):\n",
    "            return user_answer == correct_answer\n",
    "        \n",
    "        print(\"Welcome to the General Knowledge Quiz Game!\")\n",
    "        play_again = True\n",
    "        total_questions = 0\n",
    "        correct_answers = 0\n",
    "        \n",
    "        while play_again:\n",
    "            category_choice = present_category_options()\n",
    "            question = ask_question(category_choice)\n",
    "            \n",
    "            display_question(question)\n",
    "            user_answer = prompt_user_answer()\n",
    "            \n",
    "            total_questions += 1\n",
    "            if check_answer(user_answer, question[\"answer\"]):\n",
    "                print(\"Correct!\")\n",
    "                correct_answers += 1\n",
    "            else:\n",
    "                print(f\"Incorrect. The correct answer is '{question['answer']}'.\")\n",
    "    \n",
    "            play_choice = input(\"\\nDo you want to play again? (yes/no): \").strip().lower()\n",
    "            if play_choice != \"yes\":\n",
    "                play_again = False\n",
    "        \n",
    "        print(\"\\nQuiz Summary:\")\n",
    "        print(f\"Total questions: {total_questions}\")\n",
    "        print(f\"Correct answers: {correct_answers}\")\n",
    "        \n",
    "        if total_questions > 0:\n",
    "            percentage_correct = (correct_answers / total_questions) * 100\n",
    "        else:\n",
    "            percentage_correct = 0\n",
    "        \n",
    "        print(f\"Percentage correct: {percentage_correct:.2f}%\")\n",
    "        print(\"\\nThank you for playing!\")\n",
    "\n",
    "    @staticmethod\n",
    "    def play_rock_paper_scissors_computer():\n",
    "        def get_user_choice():\n",
    "            while True:\n",
    "                user_choice = input(\"Enter your choice (rock/paper/scissors): \").lower()\n",
    "                if user_choice in ['rock', 'paper', 'scissors']:\n",
    "                    return user_choice\n",
    "                else:\n",
    "                    print(\"Invalid choice! Please enter rock, paper, or scissors.\")\n",
    "        \n",
    "        def get_computer_choice():\n",
    "            choices = ['rock', 'paper', 'scissors']\n",
    "            computer_choice = random.choice(choices)\n",
    "            return computer_choice\n",
    "        \n",
    "        def determine_winner(user_choice, computer_choice):\n",
    "            if user_choice == computer_choice:\n",
    "                return \"It's a tie!\"\n",
    "            elif (user_choice == 'rock' and computer_choice == 'scissors') or \\\n",
    "                 (user_choice == 'paper' and computer_choice == 'rock') or \\\n",
    "                 (user_choice == 'scissors' and computer_choice == 'paper'):\n",
    "                return \"You win!\"\n",
    "            else:\n",
    "                return \"Computer wins!\"\n",
    "        \n",
    "        print(\"Welcome to Rock-Paper-Scissors (against computer)!\")\n",
    "        \n",
    "        while True:\n",
    "            user_choice = get_user_choice()\n",
    "            computer_choice = get_computer_choice()\n",
    "            \n",
    "            print(f\"\\nYou chose: {user_choice}\")\n",
    "            print(f\"Computer chose: {computer_choice}\")\n",
    "            \n",
    "            result = determine_winner(user_choice, computer_choice)\n",
    "            print(result)\n",
    "            \n",
    "            play_again = input(\"\\nDo you want to play again? (yes/no): \").lower()\n",
    "            if play_again != 'yes':\n",
    "                print(\"Thanks for playing!\")\n",
    "                break\n",
    "    \n",
    "    @staticmethod\n",
    "    def play_rock_paper_scissors_user():\n",
    "        def determine_winner(player1_name, player1_choice, player2_name, player2_choice):\n",
    "            if player1_choice == player2_choice:\n",
    "                return None  # It's a tie\n",
    "            \n",
    "            if (player1_choice == 'rock' and player2_choice == 'scissors') or \\\n",
    "               (player1_choice == 'paper' and player2_choice == 'rock') or \\\n",
    "               (player1_choice == 'scissors' and player2_choice == 'paper'):\n",
    "                return player1_name  # Player 1 wins\n",
    "            \n",
    "            return player2_name  # Player 2 wins\n",
    "        \n",
    "        print(\"Welcome to the Rock-Paper-Scissors game (user vs user)!\")\n",
    "        \n",
    "        # Get player names and choices\n",
    "        player1_name = input(\"Player 1, enter your name: \")\n",
    "        player2_name = input(\"Player 2, enter your name: \")\n",
    "        \n",
    "        while True:\n",
    "            player1_choice = input(f\"{player1_name}, choose rock, paper, or scissors: \").strip().lower()\n",
    "            player2_choice = input(f\"{player2_name}, choose rock, paper, or scissors: \").strip().lower()\n",
    "            \n",
    "            choices = ['rock', 'paper', 'scissors']\n",
    "            if player1_choice in choices and player2_choice in choices:\n",
    "                break\n",
    "            else:\n",
    "                print(\"Invalid choice! Please choose rock, paper, or scissors.\")\n",
    "        \n",
    "        winner = determine_winner(player1_name, player1_choice, player2_name, player2_choice)\n",
    "        \n",
    "        if winner is None:\n",
    "            print(\"It's a tie!\")\n",
    "        else:\n",
    "            print(f\"The winner is: {winner}!\")\n",
    "    \n",
    "    @staticmethod\n",
    "    def play_word_guessing_game():\n",
    "        def word_guessing_game(word_list):\n",
    "            secret_word = random.choice(word_list)\n",
    "            word_length = len(secret_word)\n",
    "            \n",
    "            print(\"Welcome to the Word Guessing Game!\")\n",
    "            print(f\"The secret word has {word_length} letters.\")\n",
    "            print(\"Clues : Words are belongs to programming language\")\n",
    "            \n",
    "            attempts = 0\n",
    "            max_attempts = 5\n",
    "            \n",
    "            while attempts < max_attempts:\n",
    "                print(\"\\nAttempts left:\", max_attempts - attempts)\n",
    "                guess = input(\"Enter your guess: \").strip().lower()\n",
    "                \n",
    "                if guess == secret_word:\n",
    "                    print(\"Congratulations! You guessed the secret word correctly.\")\n",
    "                    break\n",
    "                else:\n",
    "                    print(\"Incorrect guess. Try again.\")\n",
    "                    attempts += 1\n",
    "            \n",
    "            if attempts == max_attempts:\n",
    "                print(f\"\\nSorry, you've run out of attempts. The secret word was '{secret_word}'.\")\n",
    "        \n",
    "        # Example usage:\n",
    "        word_list = [\"python\", \"java\", \"ruby\", \"javascript\", \"php\"]\n",
    "        word_guessing_game(word_list)\n",
    "\n",
    "def main():\n",
    "    print(\"Welcome to the Game Menu!\")\n",
    "    while True:\n",
    "        GameMenu.menu()\n",
    "        try:\n",
    "            option = int(input(\"Enter your choice (1-6): \"))\n",
    "            if option == 1:\n",
    "                GameMenu.play_riddle_game()\n",
    "            elif option == 2:\n",
    "                GameMenu.play_arithmetic_puzzle()\n",
    "            elif option == 3:\n",
    "                GameMenu.play_general_knowledge_quiz()\n",
    "            elif option == 4:\n",
    "                GameMenu.play_rock_paper_scissors_computer()\n",
    "            elif option == 5:\n",
    "                GameMenu.play_rock_paper_scissors_user()\n",
    "            elif option == 6:\n",
    "                GameMenu.play_word_guessing_game()\n",
    "            else:\n",
    "                print(\"You have entered the wrong option.\")\n",
    "            \n",
    "            repeat = input(\"Do you want to repeat the menu to play another game? (Y/y for Yes, N/n for No): \").strip().lower()\n",
    "            if repeat != 'y':\n",
    "                print(\"Thank you for Playing\")\n",
    "                break\n",
    "        \n",
    "        except ValueError:\n",
    "            print(\"Invalid input! Please enter a number.\")\n",
    "\n",
    "if __name__ == \"__main__\":\n",
    "    main()\n"
   ]
  },
  {
   "cell_type": "code",
   "execution_count": null,
   "id": "648afa41",
   "metadata": {},
   "outputs": [],
   "source": []
  },
  {
   "cell_type": "code",
   "execution_count": null,
   "id": "eba6d2b6",
   "metadata": {},
   "outputs": [],
   "source": []
  }
 ],
 "metadata": {
  "kernelspec": {
   "display_name": "Python 3 (ipykernel)",
   "language": "python",
   "name": "python3"
  },
  "language_info": {
   "codemirror_mode": {
    "name": "ipython",
    "version": 3
   },
   "file_extension": ".py",
   "mimetype": "text/x-python",
   "name": "python",
   "nbconvert_exporter": "python",
   "pygments_lexer": "ipython3",
   "version": "3.11.7"
  }
 },
 "nbformat": 4,
 "nbformat_minor": 5
}
