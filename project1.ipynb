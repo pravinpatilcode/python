{
 "cells": [
  {
   "cell_type": "code",
   "execution_count": 1,
   "id": "9e39e855",
   "metadata": {},
   "outputs": [
    {
     "name": "stdout",
     "output_type": "stream",
     "text": [
      "Welcome to the Riddle Game!\n",
      "\n",
      "Try to solve this riddle:\n",
      "What has a neck without a head, a body without legs, and can be found in the sea?\n"
     ]
    },
    {
     "name": "stdin",
     "output_type": "stream",
     "text": [
      "Your answer:  a bottle\n"
     ]
    },
    {
     "name": "stdout",
     "output_type": "stream",
     "text": [
      "Correct!\n"
     ]
    },
    {
     "name": "stdin",
     "output_type": "stream",
     "text": [
      "Do you want to play again? (yes/no):  y\n"
     ]
    },
    {
     "name": "stdout",
     "output_type": "stream",
     "text": [
      "\n",
      "Your score: 1/13 (7.69%)\n"
     ]
    }
   ],
   "source": [
    "#                     Project1       TASK 1\n",
    "\n",
    "import random\n",
    "\n",
    "riddles = [\n",
    "    {\"question\": \"What has keys but can't open locks?\", \"answer\": \"keyboard\"},\n",
    "    {\"question\": \"What has a head, a tail, is brown, and has no legs?\", \"answer\": \"penny\"},\n",
    "    {\"question\": \"What comes once in a minute, twice in a moment, but never in a thousand years?\", \"answer\": \"letter 'm'\"},\n",
    "     {\"question\": \"I have a neck without a head, a body without legs, and I am always in a bed.\", \"answer\": \"shirt\"},\n",
    "    {\"question\": \"I am full of eyes but cannot see. What am I?\", \"answer\": \"potato\"},\n",
    "    {\"question\": \"What gets wetter the more it dries?\", \"answer\": \"a towel\"},\n",
    "    {\"question\": \"What has an eye but cannot see, a wing but cannot fly?\", \"answer\": \"a needle\"},\n",
    "    {\"question\": \"What is always coming, but never arrives?\", \"answer\": \"tomorrow\"},\n",
    "    {\"question\": \"What has to be broken before you can use it?\", \"answer\": \"an egg\"},\n",
    "    {\"question\": \"What has cities, but no houses; mountains, but no trees; water, but no fish?\", \"answer\": \"a map\"},\n",
    "    {\"question\": \"What has to be broken before you can use it?\", \"answer\": \"a promise\"},\n",
    "    {\"question\": \"What has a neck without a head, a body without legs, and can be found in the sea?\", \"answer\": \"a bottle\"},\n",
    "    {\"question\": \"What has one voice but speaks in many tongues?\", \"answer\": \"an echo\"}\n",
    "]\n",
    "\n",
    "\n",
    "\n",
    "def choose_random_riddle():\n",
    "    return random.choice(riddles)\n",
    "\n",
    "\n",
    "def main():\n",
    "    score = 0\n",
    "    total_riddles = len(riddles)\n",
    "    play_again = True\n",
    "\n",
    "    print(\"Welcome to the Riddle Game!\")\n",
    "\n",
    "    while play_again:\n",
    "        riddle = choose_random_riddle()\n",
    "        print(\"\\nTry to solve this riddle:\")\n",
    "        print(riddle[\"question\"])\n",
    "\n",
    "        user_answer = input(\"Your answer: \").strip().lower()\n",
    "\n",
    "        if user_answer == riddle[\"answer\"]:\n",
    "            print(\"Correct!\")\n",
    "            score += 1\n",
    "        else:\n",
    "            print(f\"Incorrect. The correct answer is '{riddle['answer']}'.\")\n",
    "\n",
    "        play_choice = input(\"Do you want to play again? (yes/no): \").strip().lower()\n",
    "        if play_choice != \"yes\":\n",
    "            play_again = False\n",
    "\n",
    "# Calculate score\n",
    "    score_percentage = (score / total_riddles) * 100\n",
    "    print(f\"\\nYour score: {score}/{total_riddles} ({score_percentage:.2f}%)\")\n",
    "\n",
    "\n",
    "# This line checks if the script is being run directly (not imported as a module)\n",
    "if __name__ == \"__main__\":\n",
    "    main()\n"
   ]
  },
  {
   "cell_type": "code",
   "execution_count": null,
   "id": "de67581b",
   "metadata": {},
   "outputs": [
    {
     "name": "stdout",
     "output_type": "stream",
     "text": [
      "Welcome to the Arithmetic Logic Puzzle Game!\n",
      "Solve the following arithmetic problem:\n",
      "Problem: 14 * 19\n"
     ]
    }
   ],
   "source": [
    "#                                                TASK2\n",
    "import random\n",
    "\n",
    "def generate_problem():\n",
    "  \"\"\"Generate a random arithmetic problem.\"\"\"\n",
    "  num1 = random.randint(1, 20)\n",
    "  num2 = random.randint(1, 20)\n",
    "  operator = random.choice(['+', '-', '*', '/'])\n",
    "\n",
    "    \n",
    "  # Ensure division is valid (no division by zero)\n",
    "    \n",
    "  if operator == '/' and num2 == 0:\n",
    "    num2 = random.randint(1, 20)\n",
    "\n",
    "  problem = f\"{num1} {operator} {num2}\"\n",
    "  return problem\n",
    "\n",
    "def evaluate_solution(problem):\n",
    "    \n",
    "  #Evaluate the solution to the arithmetic problem.\n",
    "    \n",
    "  try:\n",
    "    result = eval(problem)\n",
    "    return result\n",
    "  except ZeroDivisionError:\n",
    "    return None\n",
    "  except Exception as e:\n",
    "    print(f\"An error occurred: {str(e)}\")\n",
    "    return None\n",
    "\n",
    "def main():\n",
    "  print(\"Welcome to the Arithmetic Logic Puzzle Game!\")\n",
    "  print(\"Solve the following arithmetic problem:\")\n",
    "\n",
    "  score = 0\n",
    "  total_problems = 0\n",
    "  play_again = True\n",
    "\n",
    "  while play_again:\n",
    "    try:\n",
    "      problem = generate_problem()\n",
    "      print(f\"Problem: {problem}\")\n",
    "\n",
    "      user_answer = input(\"Your answer (or 'q' to quit): \").strip().lower()\n",
    "\n",
    "      if user_answer == 'q':\n",
    "        break\n",
    "\n",
    "      try:\n",
    "        user_answer = float(user_answer)  # Convert input to float for comparison\n",
    "      except ValueError:\n",
    "        print(\"Invalid input. Please enter a number or 'q' to quit.\")\n",
    "        continue\n",
    "\n",
    "      correct_answer = evaluate_solution(problem)\n",
    "\n",
    "      if correct_answer is None:\n",
    "        print(\"Invalid problem. Please try again.\")\n",
    "        continue\n",
    "\n",
    "      total_problems += 1\n",
    "      if user_answer == correct_answer:\n",
    "        print(\"Correct!\")\n",
    "        score += 1\n",
    "      else:\n",
    "        print(f\"Incorrect. The correct answer is {correct_answer}.\")\n",
    "\n",
    "    except KeyboardInterrupt:\n",
    "      print(\"\\n\\nGame interrupted. Exiting...\")\n",
    "      break\n",
    "    except Exception as e:\n",
    "      print(f\"An error occurred: {str(e)}\")\n",
    "      continue\n",
    "\n",
    "    play_choice = input(\"Do you want to play again? (yes/no): \").strip().lower()\n",
    "    if play_choice != \"yes\":\n",
    "      play_again = False\n",
    "\n",
    "  # Calculate and display the score percentage\n",
    "  if total_problems > 0:\n",
    "    score_percentage = (score / total_problems) * 100\n",
    "  else:\n",
    "    score_percentage = 0\n",
    "\n",
    "  print(f\"\\nYour score: {score}/{total_problems} ({score_percentage:.2f}%)\")\n",
    "  print(\"\\nThank you for playing!\")\n",
    "\n",
    "# Ensure the code runs only when the script is executed directly\n",
    "if __name__ == \"__main__\":\n",
    "  main()\n"
   ]
  },
  {
   "cell_type": "code",
   "execution_count": null,
   "id": "a4b5806e",
   "metadata": {},
   "outputs": [],
   "source": []
  },
  {
   "cell_type": "code",
   "execution_count": 5,
   "id": "2aa02971",
   "metadata": {},
   "outputs": [
    {
     "name": "stdout",
     "output_type": "stream",
     "text": [
      "Welcome to the General Knowledge Quiz Game!\n",
      "Select a category:\n",
      "1. Science\n",
      "2. Mathematics\n",
      "3. Geography\n",
      "4. Other\n"
     ]
    },
    {
     "name": "stdin",
     "output_type": "stream",
     "text": [
      "Enter your choice (1-4):  science\n"
     ]
    },
    {
     "name": "stdout",
     "output_type": "stream",
     "text": [
      "Invalid choice. Please enter a number between 1 and 4.\n",
      "Select a category:\n",
      "1. Science\n",
      "2. Mathematics\n",
      "3. Geography\n",
      "4. Other\n"
     ]
    },
    {
     "name": "stdin",
     "output_type": "stream",
     "text": [
      "Enter your choice (1-4):  2\n"
     ]
    },
    {
     "name": "stdout",
     "output_type": "stream",
     "text": [
      "\n",
      "Question: What is the square root of 64?\n"
     ]
    },
    {
     "name": "stdin",
     "output_type": "stream",
     "text": [
      "Your answer:  22\n"
     ]
    },
    {
     "name": "stdout",
     "output_type": "stream",
     "text": [
      "Incorrect. The correct answer is '8'.\n"
     ]
    },
    {
     "name": "stdin",
     "output_type": "stream",
     "text": [
      "\n",
      "Do you want to play again? (yes/no):  no\n"
     ]
    },
    {
     "name": "stdout",
     "output_type": "stream",
     "text": [
      "\n",
      "Quiz Summary:\n",
      "Total questions: 1\n",
      "Correct answers: 0\n",
      "Percentage correct: 0.00%\n",
      "\n",
      "Thank you for playing!\n"
     ]
    }
   ],
   "source": [
    "#                                                   TASK3\n",
    "import random\n",
    "\n",
    "# Define lists to store questions categorized by type\n",
    "science_questions = [\n",
    "    {\"question\": \"What is the powerhouse of the cell?\", \"answer\": \"mitochondria\"},\n",
    "    {\"question\": \"What is the chemical symbol for water?\", \"answer\": \"h2o\"},\n",
    "    {\"question\": \"What is the closest planet to the Sun?\", \"answer\": \"mercury\"},\n",
    "]\n",
    "\n",
    "mathematics_questions = [\n",
    "    {\"question\": \"What is the value of Pi (π) to two decimal places?\", \"answer\": \"3.14\"},\n",
    "    {\"question\": \"What is the square root of 64?\", \"answer\": \"8\"},\n",
    "    {\"question\": \"What is the sum of angles in a triangle?\", \"answer\": \"180 degrees\"},\n",
    "]\n",
    "\n",
    "geography_questions = [\n",
    "    {\"question\": \"What is the capital city of France?\", \"answer\": \"paris\"},\n",
    "    {\"question\": \"Which ocean is the largest by area?\", \"answer\": \"pacific ocean\"},\n",
    "    {\"question\": \"What is the longest river in the world?\", \"answer\": \"amazon river\"},\n",
    "]\n",
    "\n",
    "other_questions = [\n",
    "    {\"question\": \"Who painted the Mona Lisa?\", \"answer\": \"leonardo da vinci\"},\n",
    "    {\"question\": \"What is the largest mammal on Earth?\", \"answer\": \"blue whale\"},\n",
    "    {\"question\": \"Which country is famous for Mount Everest?\", \"answer\": \"nepal\"},\n",
    "]\n",
    "\n",
    "def ask_category():\n",
    "    \"\"\"Ask the user to choose a category.\"\"\"\n",
    "    print(\"Select a category:\")\n",
    "    print(\"1. Science\")\n",
    "    print(\"2. Mathematics\")\n",
    "    print(\"3. Geography\")\n",
    "    print(\"4. Other\")\n",
    "    category = input(\"Enter your choice (1-4): \")\n",
    "    return category\n",
    "\n",
    "def present_category_options():\n",
    "    \"\"\"Present category options and return user's choice.\"\"\"\n",
    "    category = ask_category()\n",
    "    while category not in ['1', '2', '3', '4']:\n",
    "        print(\"Invalid choice. Please enter a number between 1 and 4.\")\n",
    "        category = ask_category()\n",
    "    return category\n",
    "\n",
    "def ask_question(category):\n",
    "    \"\"\"Select and return a random question from the specified category.\"\"\"\n",
    "    if category == '1':\n",
    "        return random.choice(science_questions)\n",
    "    elif category == '2':\n",
    "        return random.choice(mathematics_questions)\n",
    "    elif category == '3':\n",
    "        return random.choice(geography_questions)\n",
    "    elif category == '4':\n",
    "        return random.choice(other_questions)\n",
    "    else:\n",
    "        return None\n",
    "\n",
    "def display_question(question):\n",
    "    \"\"\"Display the given question.\"\"\"\n",
    "    print(\"\\nQuestion:\", question[\"question\"])\n",
    "\n",
    "def prompt_user_answer():\n",
    "    \"\"\"Prompt the user for an answer.\"\"\"\n",
    "    return input(\"Your answer: \").strip().lower()\n",
    "\n",
    "def check_answer(user_answer, correct_answer):\n",
    "    \"\"\"Compare the user's answer with the correct answer.\"\"\"\n",
    "    return user_answer == correct_answer\n",
    "\n",
    "def play_game():\n",
    "    \"\"\"Manages the main game loop.\"\"\"\n",
    "    print(\"Welcome to the General Knowledge Quiz Game!\")\n",
    "    play_again = True\n",
    "    total_questions = 0\n",
    "    correct_answers = 0\n",
    "    \n",
    "    while play_again:\n",
    "        category_choice = present_category_options()\n",
    "        question = ask_question(category_choice)\n",
    "        \n",
    "        if question is None:\n",
    "            print(\"Invalid choice. Please enter a number between 1 and 4.\")\n",
    "            continue\n",
    "        \n",
    "        display_question(question)\n",
    "        user_answer = prompt_user_answer()\n",
    "        \n",
    "        total_questions += 1\n",
    "        if check_answer(user_answer, question[\"answer\"]):\n",
    "            print(\"Correct!\")\n",
    "            correct_answers += 1\n",
    "        else:\n",
    "            print(f\"Incorrect. The correct answer is '{question['answer']}'.\")\n",
    "\n",
    "        play_choice = input(\"\\nDo you want to play again? (yes/no): \").strip().lower()\n",
    "        if play_choice != \"yes\":\n",
    "            play_again = False\n",
    "    \n",
    "    print(\"\\nQuiz Summary:\")\n",
    "    print(f\"Total questions: {total_questions}\")\n",
    "    print(f\"Correct answers: {correct_answers}\")\n",
    "    \n",
    "    if total_questions > 0:\n",
    "        percentage_correct = (correct_answers / total_questions) * 100\n",
    "    else:\n",
    "        percentage_correct = 0\n",
    "    \n",
    "    print(f\"Percentage correct: {percentage_correct:.2f}%\")\n",
    "    print(\"\\nThank you for playing!\")\n",
    "if __name__ == \"__main__\":\n",
    "    play_game()"
   ]
  },
  {
   "cell_type": "code",
   "execution_count": 7,
   "id": "65001b98",
   "metadata": {},
   "outputs": [
    {
     "name": "stdin",
     "output_type": "stream",
     "text": [
      "enter your choice : paper\n"
     ]
    },
    {
     "name": "stdout",
     "output_type": "stream",
     "text": [
      "scissor cuts paper! user lose\n"
     ]
    }
   ],
   "source": [
    "#                                                   TASK4\n",
    "import random\n",
    "user_action=input('enter your choice :')\n",
    "possible_actions=['rock','paper','scissor']\n",
    "computer_action=random.choice(possible_actions)\n",
    " \n",
    "if(user_action==computer_action):\n",
    "                  print('both the computer and user has given same input,it is a tie')\n",
    "elif (user_action=='rock'):\n",
    "    if(computer_action=='scissor'):\n",
    "        print('rock smashes scissor! user win')\n",
    "    else:\n",
    "        print('paper covers rock! user lose')\n",
    "elif(user_action=='paper'):\n",
    "    if(computer_action=='rock'):\n",
    "        print('paper covers rock! user win')\n",
    "    else:\n",
    "        print('scissor cuts paper! user lose')\n",
    "elif(user_action=='scissor'):\n",
    "    if(computer_action=='paper'):\n",
    "        print('scissor cuts paper! user win')\n",
    "    else:\n",
    "        print('rock smashes scissor! user lose')"
   ]
  },
  {
   "cell_type": "code",
   "execution_count": 8,
   "id": "02c5f002",
   "metadata": {},
   "outputs": [
    {
     "name": "stdout",
     "output_type": "stream",
     "text": [
      "Welcome to the Rock-Paper-Scissors Game!\n",
      "Each player, please choose rock, paper, or scissors.\n",
      "\n"
     ]
    },
    {
     "name": "stdin",
     "output_type": "stream",
     "text": [
      "Player 1, enter your choice (rock, paper, scissors):  paper\n",
      "Player 2, enter your choice (rock, paper, scissors):  rock\n"
     ]
    },
    {
     "name": "stdout",
     "output_type": "stream",
     "text": [
      "\n",
      "Player 1 chose: paper\n",
      "Player 2 chose: rock\n",
      "\n",
      "Player 1 wins!\n"
     ]
    }
   ],
   "source": [
    "#                                                   TASK5\n",
    "def get_player_choice(player_num):\n",
    "    \"\"\"Prompt player for their choice (rock, paper, or scissors).\"\"\"\n",
    "    while True:\n",
    "        player_choice = input(f\"Player {player_num}, enter your choice (rock, paper, scissors): \").strip().lower()\n",
    "        if player_choice in ['rock', 'paper', 'scissors']:\n",
    "            return player_choice\n",
    "        else:\n",
    "            print(\"Invalid choice! Please enter 'rock', 'paper', or 'scissors'.\")\n",
    "\n",
    "def determine_winner(player1_choice, player2_choice):\n",
    "    \"\"\"Determine the winner based on the choices of two players.\"\"\"\n",
    "    if player1_choice == player2_choice:\n",
    "        return None  # It's a tie\n",
    "    elif (player1_choice == 'rock' and player2_choice == 'scissors') or \\\n",
    "         (player1_choice == 'paper' and player2_choice == 'rock') or \\\n",
    "         (player1_choice == 'scissors' and player2_choice == 'paper'):\n",
    "        return 1  # Player 1 wins\n",
    "    else:\n",
    "        return 2  # Player 2 wins\n",
    "\n",
    "def play_game():\n",
    "    \"\"\"Play a round of rock-paper-scissors.\"\"\"\n",
    "    print(\"Welcome to the Rock-Paper-Scissors Game!\")\n",
    "    print(\"Each player, please choose rock, paper, or scissors.\\n\")\n",
    "    \n",
    "    player1_choice = get_player_choice(1)\n",
    "    player2_choice = get_player_choice(2)\n",
    "    \n",
    "    print(f\"\\nPlayer 1 chose: {player1_choice}\")\n",
    "    print(f\"Player 2 chose: {player2_choice}\\n\")\n",
    "    \n",
    "    winner = determine_winner(player1_choice, player2_choice)\n",
    "    \n",
    "    if winner is None:\n",
    "        print(\"It's a tie!\")\n",
    "    elif winner == 1:\n",
    "        print(\"Player 1 wins!\")\n",
    "    else:\n",
    "        print(\"Player 2 wins!\")\n",
    "\n",
    "if __name__ == \"__main__\":\n",
    "    play_game()"
   ]
  },
  {
   "cell_type": "code",
   "execution_count": null,
   "id": "7fd8484b",
   "metadata": {},
   "outputs": [],
   "source": []
  }
 ],
 "metadata": {
  "kernelspec": {
   "display_name": "Python 3 (ipykernel)",
   "language": "python",
   "name": "python3"
  },
  "language_info": {
   "codemirror_mode": {
    "name": "ipython",
    "version": 3
   },
   "file_extension": ".py",
   "mimetype": "text/x-python",
   "name": "python",
   "nbconvert_exporter": "python",
   "pygments_lexer": "ipython3",
   "version": "3.11.7"
  }
 },
 "nbformat": 4,
 "nbformat_minor": 5
}
